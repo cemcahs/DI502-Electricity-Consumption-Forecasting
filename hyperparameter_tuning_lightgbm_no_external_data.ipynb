{
 "cells": [
  {
   "cell_type": "code",
   "execution_count": 1,
   "id": "1657463a",
   "metadata": {},
   "outputs": [],
   "source": [
    "import pandas as pd\n",
    "import os\n",
    "import numpy as np\n",
    "import matplotlib.pyplot as plt\n",
    "import datetime\n",
    "import random\n",
    "from sklearn.model_selection import train_test_split\n",
    "from lightgbm import LGBMRegressor\n",
    "from sklearn.metrics import mean_absolute_error,mean_absolute_percentage_error,mean_squared_error,r2_score\n",
    "import wandb\n",
    "from wandb.lightgbm import wandb_callback"
   ]
  },
  {
   "cell_type": "code",
   "execution_count": 2,
   "id": "ac894eb1",
   "metadata": {},
   "outputs": [],
   "source": [
    "os.environ[\"WANDB_NOTEBOOK_NAME\"] = \"hyperparameter_tuning_lightgbm_no_external_data.ipynb\""
   ]
  },
  {
   "cell_type": "code",
   "execution_count": 3,
   "id": "e77ce085",
   "metadata": {},
   "outputs": [
    {
     "name": "stderr",
     "output_type": "stream",
     "text": [
      "\u001b[34m\u001b[1mwandb\u001b[0m: Currently logged in as: \u001b[33mcemalicoskunirmak\u001b[0m (\u001b[33mthebiasbusters\u001b[0m). Use \u001b[1m`wandb login --relogin`\u001b[0m to force relogin\n"
     ]
    },
    {
     "data": {
      "text/plain": [
       "True"
      ]
     },
     "execution_count": 3,
     "metadata": {},
     "output_type": "execute_result"
    }
   ],
   "source": [
    "wandb.login()"
   ]
  },
  {
   "cell_type": "code",
   "execution_count": 4,
   "id": "7eebf0ac",
   "metadata": {},
   "outputs": [],
   "source": [
    "df = pd.read_excel(\"C:\\\\Users\\\\cemal\\\\Desktop\\\\Dersler\\\\Data Informatics\\\\DI502\\\\Github\\\\Electricity_Consmption_EPIAS_data.xlsx\")\n",
    "\n",
    "dates_dt = pd.to_datetime(df.Tarih, format='%d.%m.%Y')\n",
    "    \n",
    "df.Tarih = dates_dt.copy()\n",
    "df = df.sort_values(\"Tarih\")"
   ]
  },
  {
   "cell_type": "code",
   "execution_count": 5,
   "id": "520627e1",
   "metadata": {},
   "outputs": [
    {
     "name": "stderr",
     "output_type": "stream",
     "text": [
      "C:\\Users\\cemal\\AppData\\Local\\Temp\\ipykernel_21400\\1891689872.py:5: FutureWarning: Series.dt.weekofyear and Series.dt.week have been deprecated. Please use Series.dt.isocalendar().week instead.\n",
      "  df['week']=df['Tarih'].dt.week\n",
      "C:\\Users\\cemal\\AppData\\Local\\Temp\\ipykernel_21400\\1891689872.py:13: FutureWarning: In a future version, `df.iloc[:, i] = newvals` will attempt to set the values inplace instead of always setting a new array. To retain the old behavior, use either `df[df.columns[i]] = newvals` or, if columns are non-unique, `df.isetitem(i, newvals)`\n",
      "  df.loc[:,target] =  pd.Series([item.replace(\".\", \"\").replace(\",\",\".\") for item in df.loc[:,target]]).astype(\"float\")\n"
     ]
    }
   ],
   "source": [
    "df['year']=df['Tarih'].dt.year \n",
    "df['month']=df['Tarih'].dt.month\n",
    "df['day']=df['Tarih'].dt.day\n",
    "df['season']=df['Tarih'].dt.quarter\n",
    "df['week']=df['Tarih'].dt.week\n",
    "df['dayofweek']=df['Tarih'].dt.dayofweek\n",
    "df['hour']= df.Saat.astype(\"str\").apply(lambda x: x[:2]).astype(\"int\")\n",
    "\n",
    "df = df.sort_values([\"year\",\"month\",\"day\",\"hour\"])\n",
    "\n",
    "target = \"Tüketim Miktarı (MWh)\"\n",
    "\n",
    "df.loc[:,target] =  pd.Series([item.replace(\".\", \"\").replace(\",\",\".\") for item in df.loc[:,target]]).astype(\"float\")"
   ]
  },
  {
   "cell_type": "code",
   "execution_count": 6,
   "id": "acaba073",
   "metadata": {},
   "outputs": [],
   "source": [
    "train = df[df.Tarih <= \"2023-09-30\"].reset_index(drop=True).copy()\n",
    "test = df[df.Tarih > \"2023-09-30\"].reset_index(drop=True).copy()"
   ]
  },
  {
   "cell_type": "code",
   "execution_count": 7,
   "id": "62b5ee8c",
   "metadata": {},
   "outputs": [],
   "source": [
    "x_train = train.iloc[:,-7:]\n",
    "x_test = test.iloc[:,-7:]\n",
    "y_train = train.loc[:,target]\n",
    "y_test = test.loc[:,target]\n",
    "\n",
    "eval_set = [(x_test,y_test)]"
   ]
  },
  {
   "cell_type": "code",
   "execution_count": 8,
   "id": "3a150591",
   "metadata": {},
   "outputs": [],
   "source": [
    "sweep_config = {\n",
    "    \n",
    "    'method': 'bayes',  # Örneğin bayes, grid, random\n",
    "    'metric': {\n",
    "        \n",
    "      'name': 'r2',\n",
    "      'goal': 'maximize'\n",
    "        \n",
    "    },\n",
    "    \n",
    "    'parameters': {\n",
    "        \n",
    "        'learning_rate': {\n",
    "            'min': 0.005,\n",
    "            'max': 0.2\n",
    "            \n",
    "        },\n",
    "        \n",
    "        'max_depth': {\n",
    "            'values': [4,5,6, 7]\n",
    "            \n",
    "        },\n",
    "        \n",
    "        'num_leaves': {\n",
    "            'min': 20,\n",
    "            'max': 50\n",
    "        },\n",
    "        \n",
    "        'n_estimators': {\n",
    "            'min':100,\n",
    "            'max':1000\n",
    "        },\n",
    "        \n",
    "        'subsample' : {\n",
    "            'values' : [0.8,0.9,1]\n",
    "        },\n",
    "        \n",
    "        'reg_alpha' : {\n",
    "            \n",
    "            'min': 0,\n",
    "            'max':100\n",
    "        },\n",
    "        \n",
    "        'reg_lambda' : {\n",
    "            \n",
    "            'min':0,\n",
    "            'max':100\n",
    "        }\n",
    "    }\n",
    "}"
   ]
  },
  {
   "cell_type": "code",
   "execution_count": 9,
   "id": "0b90517e",
   "metadata": {},
   "outputs": [],
   "source": [
    "# sweep_id = wandb.sweep(sweep_config, project=\"ElectricConsumption\", entity=\"thebiasbusters\")\n",
    "\n",
    "def train():\n",
    "    # W&B entegrasyonunu başlat\n",
    "    with wandb.init() as run:\n",
    "        config = run.config\n",
    "\n",
    "        # Modelinizi konfigürasyona göre oluşturun\n",
    "        model = LGBMRegressor(\n",
    "            learning_rate=config.learning_rate,\n",
    "            max_depth=int(config.max_depth),\n",
    "            num_leaves=int(config.num_leaves),\n",
    "            n_estimators=int(config.n_estimators),\n",
    "            subsample= config.subsample,\n",
    "            reg_alpha= config.reg_alpha,\n",
    "            reg_lambda= config.reg_lambda,\n",
    "            random_state=42\n",
    "        )\n",
    "\n",
    "        # Modeli eğitin\n",
    "        model.fit(x_train, y_train, eval_set=eval_set)\n",
    "        preds = model.predict(x_test)\n",
    "\n",
    "        # Calculate R-squared on the test set\n",
    "        r2 = r2_score(y_test, preds)\n",
    "\n",
    "        # Log the R-squared score\n",
    "        wandb.log({'r2': r2})"
   ]
  },
  {
   "cell_type": "code",
   "execution_count": null,
   "id": "6bf3546e",
   "metadata": {},
   "outputs": [],
   "source": [
    "# Sweep agent'larını başlatın ve sweep ID'si ile ilişkilendirin\n",
    "wandb.agent(\"imyaimnq\", train, count=30, project=\"ElectricConsumption\", entity=\"thebiasbusters\")"
   ]
  },
  {
   "cell_type": "code",
   "execution_count": null,
   "id": "7a2d44c3",
   "metadata": {},
   "outputs": [],
   "source": []
  }
 ],
 "metadata": {
  "kernelspec": {
   "display_name": "Python 3 (ipykernel)",
   "language": "python",
   "name": "python3"
  },
  "language_info": {
   "codemirror_mode": {
    "name": "ipython",
    "version": 3
   },
   "file_extension": ".py",
   "mimetype": "text/x-python",
   "name": "python",
   "nbconvert_exporter": "python",
   "pygments_lexer": "ipython3",
   "version": "3.9.5"
  },
  "toc": {
   "base_numbering": 1,
   "nav_menu": {},
   "number_sections": true,
   "sideBar": true,
   "skip_h1_title": false,
   "title_cell": "Table of Contents",
   "title_sidebar": "Contents",
   "toc_cell": false,
   "toc_position": {},
   "toc_section_display": true,
   "toc_window_display": false
  }
 },
 "nbformat": 4,
 "nbformat_minor": 5
}
