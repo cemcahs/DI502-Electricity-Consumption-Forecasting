{
 "cells": [
  {
   "cell_type": "code",
   "execution_count": 1,
   "id": "1657463a",
   "metadata": {},
   "outputs": [],
   "source": [
    "import pandas as pd\n",
    "import os\n",
    "import numpy as np\n",
    "import matplotlib.pyplot as plt\n",
    "import datetime\n",
    "import random\n",
    "from sklearn.model_selection import train_test_split\n",
    "from lightgbm import LGBMRegressor\n",
    "from sklearn.metrics import mean_absolute_error,mean_absolute_percentage_error,mean_squared_error,r2_score\n",
    "import wandb\n",
    "from wandb.lightgbm import wandb_callback"
   ]
  },
  {
   "cell_type": "code",
   "execution_count": 2,
   "id": "99ebf06c",
   "metadata": {},
   "outputs": [],
   "source": [
    "os.environ[\"WANDB_NOTEBOOK_NAME\"] = \"hyperparameter_tuning_lightgbm_no_external_data.ipynb\""
   ]
  },
  {
   "cell_type": "code",
   "execution_count": 3,
   "id": "e77ce085",
   "metadata": {},
   "outputs": [
    {
     "name": "stderr",
     "output_type": "stream",
     "text": [
      "\u001b[34m\u001b[1mwandb\u001b[0m: Currently logged in as: \u001b[33mcemalicoskunirmak\u001b[0m (\u001b[33mthebiasbusters\u001b[0m). Use \u001b[1m`wandb login --relogin`\u001b[0m to force relogin\n"
     ]
    },
    {
     "data": {
      "text/plain": [
       "True"
      ]
     },
     "execution_count": 3,
     "metadata": {},
     "output_type": "execute_result"
    }
   ],
   "source": [
    "wandb.login()"
   ]
  },
  {
   "cell_type": "code",
   "execution_count": 4,
   "id": "7eebf0ac",
   "metadata": {},
   "outputs": [],
   "source": [
    "df = pd.read_excel(\"C:\\\\Users\\\\cemal\\\\Desktop\\\\Dersler\\\\Data Informatics\\\\DI502\\\\Github\\\\Electricity_Consmption_EPIAS_data.xlsx\")\n",
    "\n",
    "dates_dt = pd.to_datetime(df.Tarih, format='%d.%m.%Y')\n",
    "    \n",
    "df.Tarih = dates_dt.copy()\n",
    "df = df.sort_values(\"Tarih\")"
   ]
  },
  {
   "cell_type": "code",
   "execution_count": 5,
   "id": "520627e1",
   "metadata": {},
   "outputs": [
    {
     "name": "stderr",
     "output_type": "stream",
     "text": [
      "C:\\Users\\cemal\\AppData\\Local\\Temp\\ipykernel_12736\\1891689872.py:5: FutureWarning: Series.dt.weekofyear and Series.dt.week have been deprecated. Please use Series.dt.isocalendar().week instead.\n",
      "  df['week']=df['Tarih'].dt.week\n",
      "C:\\Users\\cemal\\AppData\\Local\\Temp\\ipykernel_12736\\1891689872.py:13: FutureWarning: In a future version, `df.iloc[:, i] = newvals` will attempt to set the values inplace instead of always setting a new array. To retain the old behavior, use either `df[df.columns[i]] = newvals` or, if columns are non-unique, `df.isetitem(i, newvals)`\n",
      "  df.loc[:,target] =  pd.Series([item.replace(\".\", \"\").replace(\",\",\".\") for item in df.loc[:,target]]).astype(\"float\")\n"
     ]
    }
   ],
   "source": [
    "df['year']=df['Tarih'].dt.year \n",
    "df['month']=df['Tarih'].dt.month\n",
    "df['day']=df['Tarih'].dt.day\n",
    "df['season']=df['Tarih'].dt.quarter\n",
    "df['week']=df['Tarih'].dt.week\n",
    "df['dayofweek']=df['Tarih'].dt.dayofweek\n",
    "df['hour']= df.Saat.astype(\"str\").apply(lambda x: x[:2]).astype(\"int\")\n",
    "\n",
    "df = df.sort_values([\"year\",\"month\",\"day\",\"hour\"])\n",
    "\n",
    "target = \"Tüketim Miktarı (MWh)\"\n",
    "\n",
    "df.loc[:,target] =  pd.Series([item.replace(\".\", \"\").replace(\",\",\".\") for item in df.loc[:,target]]).astype(\"float\")"
   ]
  },
  {
   "cell_type": "code",
   "execution_count": 6,
   "id": "acaba073",
   "metadata": {},
   "outputs": [],
   "source": [
    "train = df[df.Tarih <= \"2023-09-30\"].reset_index(drop=True).copy()\n",
    "test = df[df.Tarih > \"2023-09-30\"].reset_index(drop=True).copy()"
   ]
  },
  {
   "cell_type": "code",
   "execution_count": 7,
   "id": "62b5ee8c",
   "metadata": {},
   "outputs": [],
   "source": [
    "x_train = train.iloc[:,-7:]\n",
    "x_test = test.iloc[:,-7:]\n",
    "y_train = train.loc[:,target]\n",
    "y_test = test.loc[:,target]\n",
    "\n",
    "eval_set = [(x_test,y_test)]"
   ]
  },
  {
   "cell_type": "code",
   "execution_count": 8,
   "id": "3a150591",
   "metadata": {},
   "outputs": [],
   "source": [
    "sweep_config = {\n",
    "    \n",
    "    'method': 'bayes',  # Örneğin bayes, grid, random\n",
    "    'metric': {\n",
    "        \n",
    "      'name': 'r2',\n",
    "      'goal': 'maximize'\n",
    "        \n",
    "    },\n",
    "    \n",
    "    'parameters': {\n",
    "        \n",
    "        'learning_rate': {\n",
    "            'min': 0.005,\n",
    "            'max': 0.2\n",
    "            \n",
    "        },\n",
    "        \n",
    "        'max_depth': {\n",
    "            'values': [4,5,6, 7]\n",
    "            \n",
    "        },\n",
    "        \n",
    "        'num_leaves': {\n",
    "            'min': 20,\n",
    "            'max': 50\n",
    "        },\n",
    "        \n",
    "        'n_estimators': {\n",
    "            'min':100,\n",
    "            'max':1000\n",
    "        },\n",
    "        \n",
    "        'subsample' : {\n",
    "            'values' : [0.8,0.9,1]\n",
    "        },\n",
    "        \n",
    "        'reg_alpha' : {\n",
    "            \n",
    "            'min': 0,\n",
    "            'max':100\n",
    "        },\n",
    "        \n",
    "        'reg_lambda' : {\n",
    "            \n",
    "            'min':0,\n",
    "            'max':100\n",
    "        }\n",
    "    }\n",
    "}"
   ]
  },
  {
   "cell_type": "code",
   "execution_count": 9,
   "id": "a89e11ad",
   "metadata": {},
   "outputs": [
    {
     "name": "stdout",
     "output_type": "stream",
     "text": [
      "Create sweep with ID: imyaimnq\n",
      "Sweep URL: https://wandb.ai/thebiasbusters/ElectricConsumption/sweeps/imyaimnq\n"
     ]
    }
   ],
   "source": [
    "# sweep_id = wandb.sweep(sweep_config, project=\"ElectricConsumption\", entity=\"thebiasbusters\")\n",
    "\n",
    "def train():\n",
    "    # W&B entegrasyonunu başlat\n",
    "    with wandb.init() as run:\n",
    "        config = run.config\n",
    "\n",
    "        # Modelinizi konfigürasyona göre oluşturun\n",
    "        model = LGBMRegressor(\n",
    "            learning_rate=config.learning_rate,\n",
    "            max_depth=int(config.max_depth),\n",
    "            num_leaves=int(config.num_leaves),\n",
    "            n_estimators=int(config.n_estimators),\n",
    "            subsample= config.subsample,\n",
    "            reg_alpha= config.reg_alpha,\n",
    "            reg_lambda= config.reg_lambda,\n",
    "            random_state=42\n",
    "        )\n",
    "\n",
    "        # Modeli eğitin\n",
    "        model.fit(x_train, y_train, eval_set=eval_set)\n",
    "        preds = model.predict(x_test)\n",
    "\n",
    "        # Calculate R-squared on the test set\n",
    "        r2 = r2_score(y_test, preds)\n",
    "\n",
    "        # Log the R-squared score\n",
    "        wandb.log({'r2': r2})"
   ]
  },
  {
   "cell_type": "code",
   "execution_count": 10,
   "id": "d49cdeb8",
   "metadata": {},
   "outputs": [
    {
     "name": "stderr",
     "output_type": "stream",
     "text": [
      "\u001b[34m\u001b[1mwandb\u001b[0m: Agent Starting Run: 12qzzqeb with config:\n",
      "\u001b[34m\u001b[1mwandb\u001b[0m: \tlearning_rate: 0.12366309393238084\n",
      "\u001b[34m\u001b[1mwandb\u001b[0m: \tmax_depth: 7\n",
      "\u001b[34m\u001b[1mwandb\u001b[0m: \tn_estimators: 477\n",
      "\u001b[34m\u001b[1mwandb\u001b[0m: \tnum_leaves: 36\n",
      "\u001b[34m\u001b[1mwandb\u001b[0m: \treg_alpha: 73\n",
      "\u001b[34m\u001b[1mwandb\u001b[0m: \treg_lambda: 97\n",
      "\u001b[34m\u001b[1mwandb\u001b[0m: \tsubsample: 0.9\n"
     ]
    },
    {
     "data": {
      "text/html": [
       "Tracking run with wandb version 0.16.0"
      ],
      "text/plain": [
       "<IPython.core.display.HTML object>"
      ]
     },
     "metadata": {},
     "output_type": "display_data"
    },
    {
     "data": {
      "text/html": [
       "Run data is saved locally in <code>C:\\Users\\cemal\\Desktop\\Dersler\\Data Informatics\\DI502\\Github\\wandb\\run-20231203_132255-12qzzqeb</code>"
      ],
      "text/plain": [
       "<IPython.core.display.HTML object>"
      ]
     },
     "metadata": {},
     "output_type": "display_data"
    },
    {
     "data": {
      "text/html": [
       "Syncing run <strong><a href='https://wandb.ai/thebiasbusters/ElectricConsumption/runs/12qzzqeb' target=\"_blank\">usual-sweep-1</a></strong> to <a href='https://wandb.ai/thebiasbusters/ElectricConsumption' target=\"_blank\">Weights & Biases</a> (<a href='https://wandb.me/run' target=\"_blank\">docs</a>)<br/>Sweep page: <a href='https://wandb.ai/thebiasbusters/ElectricConsumption/sweeps/imyaimnq' target=\"_blank\">https://wandb.ai/thebiasbusters/ElectricConsumption/sweeps/imyaimnq</a>"
      ],
      "text/plain": [
       "<IPython.core.display.HTML object>"
      ]
     },
     "metadata": {},
     "output_type": "display_data"
    },
    {
     "data": {
      "text/html": [
       " View project at <a href='https://wandb.ai/thebiasbusters/ElectricConsumption' target=\"_blank\">https://wandb.ai/thebiasbusters/ElectricConsumption</a>"
      ],
      "text/plain": [
       "<IPython.core.display.HTML object>"
      ]
     },
     "metadata": {},
     "output_type": "display_data"
    },
    {
     "data": {
      "text/html": [
       " View sweep at <a href='https://wandb.ai/thebiasbusters/ElectricConsumption/sweeps/imyaimnq' target=\"_blank\">https://wandb.ai/thebiasbusters/ElectricConsumption/sweeps/imyaimnq</a>"
      ],
      "text/plain": [
       "<IPython.core.display.HTML object>"
      ]
     },
     "metadata": {},
     "output_type": "display_data"
    },
    {
     "data": {
      "text/html": [
       " View run at <a href='https://wandb.ai/thebiasbusters/ElectricConsumption/runs/12qzzqeb' target=\"_blank\">https://wandb.ai/thebiasbusters/ElectricConsumption/runs/12qzzqeb</a>"
      ],
      "text/plain": [
       "<IPython.core.display.HTML object>"
      ]
     },
     "metadata": {},
     "output_type": "display_data"
    },
    {
     "data": {
      "text/html": [
       "<style>\n",
       "    table.wandb td:nth-child(1) { padding: 0 10px; text-align: left ; width: auto;} td:nth-child(2) {text-align: left ; width: 100%}\n",
       "    .wandb-row { display: flex; flex-direction: row; flex-wrap: wrap; justify-content: flex-start; width: 100% }\n",
       "    .wandb-col { display: flex; flex-direction: column; flex-basis: 100%; flex: 1; padding: 10px; }\n",
       "    </style>\n",
       "<div class=\"wandb-row\"><div class=\"wandb-col\"><h3>Run history:</h3><br/><table class=\"wandb\"><tr><td>r2</td><td>▁</td></tr></table><br/></div><div class=\"wandb-col\"><h3>Run summary:</h3><br/><table class=\"wandb\"><tr><td>r2</td><td>0.93305</td></tr></table><br/></div></div>"
      ],
      "text/plain": [
       "<IPython.core.display.HTML object>"
      ]
     },
     "metadata": {},
     "output_type": "display_data"
    },
    {
     "data": {
      "text/html": [
       " View run <strong style=\"color:#cdcd00\">usual-sweep-1</strong> at: <a href='https://wandb.ai/thebiasbusters/ElectricConsumption/runs/12qzzqeb' target=\"_blank\">https://wandb.ai/thebiasbusters/ElectricConsumption/runs/12qzzqeb</a><br/>Synced 5 W&B file(s), 0 media file(s), 0 artifact file(s) and 0 other file(s)"
      ],
      "text/plain": [
       "<IPython.core.display.HTML object>"
      ]
     },
     "metadata": {},
     "output_type": "display_data"
    },
    {
     "data": {
      "text/html": [
       "Find logs at: <code>.\\wandb\\run-20231203_132255-12qzzqeb\\logs</code>"
      ],
      "text/plain": [
       "<IPython.core.display.HTML object>"
      ]
     },
     "metadata": {},
     "output_type": "display_data"
    },
    {
     "name": "stderr",
     "output_type": "stream",
     "text": [
      "\u001b[34m\u001b[1mwandb\u001b[0m: Sweep Agent: Waiting for job.\n",
      "\u001b[34m\u001b[1mwandb\u001b[0m: Job received.\n",
      "\u001b[34m\u001b[1mwandb\u001b[0m: Agent Starting Run: orjyhnbf with config:\n",
      "\u001b[34m\u001b[1mwandb\u001b[0m: \tlearning_rate: 0.0055539285987642115\n",
      "\u001b[34m\u001b[1mwandb\u001b[0m: \tmax_depth: 5\n",
      "\u001b[34m\u001b[1mwandb\u001b[0m: \tn_estimators: 467\n",
      "\u001b[34m\u001b[1mwandb\u001b[0m: \tnum_leaves: 32\n",
      "\u001b[34m\u001b[1mwandb\u001b[0m: \treg_alpha: 6\n",
      "\u001b[34m\u001b[1mwandb\u001b[0m: \treg_lambda: 45\n",
      "\u001b[34m\u001b[1mwandb\u001b[0m: \tsubsample: 1\n"
     ]
    },
    {
     "data": {
      "text/html": [
       "Tracking run with wandb version 0.16.0"
      ],
      "text/plain": [
       "<IPython.core.display.HTML object>"
      ]
     },
     "metadata": {},
     "output_type": "display_data"
    },
    {
     "data": {
      "text/html": [
       "Run data is saved locally in <code>C:\\Users\\cemal\\Desktop\\Dersler\\Data Informatics\\DI502\\Github\\wandb\\run-20231203_132339-orjyhnbf</code>"
      ],
      "text/plain": [
       "<IPython.core.display.HTML object>"
      ]
     },
     "metadata": {},
     "output_type": "display_data"
    },
    {
     "data": {
      "text/html": [
       "Syncing run <strong><a href='https://wandb.ai/thebiasbusters/ElectricConsumption/runs/orjyhnbf' target=\"_blank\">divine-sweep-2</a></strong> to <a href='https://wandb.ai/thebiasbusters/ElectricConsumption' target=\"_blank\">Weights & Biases</a> (<a href='https://wandb.me/run' target=\"_blank\">docs</a>)<br/>Sweep page: <a href='https://wandb.ai/thebiasbusters/ElectricConsumption/sweeps/imyaimnq' target=\"_blank\">https://wandb.ai/thebiasbusters/ElectricConsumption/sweeps/imyaimnq</a>"
      ],
      "text/plain": [
       "<IPython.core.display.HTML object>"
      ]
     },
     "metadata": {},
     "output_type": "display_data"
    },
    {
     "data": {
      "text/html": [
       " View project at <a href='https://wandb.ai/thebiasbusters/ElectricConsumption' target=\"_blank\">https://wandb.ai/thebiasbusters/ElectricConsumption</a>"
      ],
      "text/plain": [
       "<IPython.core.display.HTML object>"
      ]
     },
     "metadata": {},
     "output_type": "display_data"
    },
    {
     "data": {
      "text/html": [
       " View sweep at <a href='https://wandb.ai/thebiasbusters/ElectricConsumption/sweeps/imyaimnq' target=\"_blank\">https://wandb.ai/thebiasbusters/ElectricConsumption/sweeps/imyaimnq</a>"
      ],
      "text/plain": [
       "<IPython.core.display.HTML object>"
      ]
     },
     "metadata": {},
     "output_type": "display_data"
    },
    {
     "data": {
      "text/html": [
       " View run at <a href='https://wandb.ai/thebiasbusters/ElectricConsumption/runs/orjyhnbf' target=\"_blank\">https://wandb.ai/thebiasbusters/ElectricConsumption/runs/orjyhnbf</a>"
      ],
      "text/plain": [
       "<IPython.core.display.HTML object>"
      ]
     },
     "metadata": {},
     "output_type": "display_data"
    },
    {
     "data": {
      "text/html": [
       "<style>\n",
       "    table.wandb td:nth-child(1) { padding: 0 10px; text-align: left ; width: auto;} td:nth-child(2) {text-align: left ; width: 100%}\n",
       "    .wandb-row { display: flex; flex-direction: row; flex-wrap: wrap; justify-content: flex-start; width: 100% }\n",
       "    .wandb-col { display: flex; flex-direction: column; flex-basis: 100%; flex: 1; padding: 10px; }\n",
       "    </style>\n",
       "<div class=\"wandb-row\"><div class=\"wandb-col\"><h3>Run history:</h3><br/><table class=\"wandb\"><tr><td>r2</td><td>▁</td></tr></table><br/></div><div class=\"wandb-col\"><h3>Run summary:</h3><br/><table class=\"wandb\"><tr><td>r2</td><td>0.88964</td></tr></table><br/></div></div>"
      ],
      "text/plain": [
       "<IPython.core.display.HTML object>"
      ]
     },
     "metadata": {},
     "output_type": "display_data"
    },
    {
     "data": {
      "text/html": [
       " View run <strong style=\"color:#cdcd00\">divine-sweep-2</strong> at: <a href='https://wandb.ai/thebiasbusters/ElectricConsumption/runs/orjyhnbf' target=\"_blank\">https://wandb.ai/thebiasbusters/ElectricConsumption/runs/orjyhnbf</a><br/>Synced 5 W&B file(s), 0 media file(s), 0 artifact file(s) and 0 other file(s)"
      ],
      "text/plain": [
       "<IPython.core.display.HTML object>"
      ]
     },
     "metadata": {},
     "output_type": "display_data"
    },
    {
     "data": {
      "text/html": [
       "Find logs at: <code>.\\wandb\\run-20231203_132339-orjyhnbf\\logs</code>"
      ],
      "text/plain": [
       "<IPython.core.display.HTML object>"
      ]
     },
     "metadata": {},
     "output_type": "display_data"
    },
    {
     "name": "stderr",
     "output_type": "stream",
     "text": [
      "\u001b[34m\u001b[1mwandb\u001b[0m: Agent Starting Run: 1cg2d49t with config:\n",
      "\u001b[34m\u001b[1mwandb\u001b[0m: \tlearning_rate: 0.044719404156379934\n",
      "\u001b[34m\u001b[1mwandb\u001b[0m: \tmax_depth: 6\n",
      "\u001b[34m\u001b[1mwandb\u001b[0m: \tn_estimators: 920\n",
      "\u001b[34m\u001b[1mwandb\u001b[0m: \tnum_leaves: 48\n",
      "\u001b[34m\u001b[1mwandb\u001b[0m: \treg_alpha: 97\n",
      "\u001b[34m\u001b[1mwandb\u001b[0m: \treg_lambda: 72\n",
      "\u001b[34m\u001b[1mwandb\u001b[0m: \tsubsample: 0.8\n"
     ]
    },
    {
     "data": {
      "text/html": [
       "Tracking run with wandb version 0.16.0"
      ],
      "text/plain": [
       "<IPython.core.display.HTML object>"
      ]
     },
     "metadata": {},
     "output_type": "display_data"
    },
    {
     "data": {
      "text/html": [
       "Run data is saved locally in <code>C:\\Users\\cemal\\Desktop\\Dersler\\Data Informatics\\DI502\\Github\\wandb\\run-20231203_132417-1cg2d49t</code>"
      ],
      "text/plain": [
       "<IPython.core.display.HTML object>"
      ]
     },
     "metadata": {},
     "output_type": "display_data"
    },
    {
     "data": {
      "text/html": [
       "Syncing run <strong><a href='https://wandb.ai/thebiasbusters/ElectricConsumption/runs/1cg2d49t' target=\"_blank\">hearty-sweep-3</a></strong> to <a href='https://wandb.ai/thebiasbusters/ElectricConsumption' target=\"_blank\">Weights & Biases</a> (<a href='https://wandb.me/run' target=\"_blank\">docs</a>)<br/>Sweep page: <a href='https://wandb.ai/thebiasbusters/ElectricConsumption/sweeps/imyaimnq' target=\"_blank\">https://wandb.ai/thebiasbusters/ElectricConsumption/sweeps/imyaimnq</a>"
      ],
      "text/plain": [
       "<IPython.core.display.HTML object>"
      ]
     },
     "metadata": {},
     "output_type": "display_data"
    },
    {
     "data": {
      "text/html": [
       " View project at <a href='https://wandb.ai/thebiasbusters/ElectricConsumption' target=\"_blank\">https://wandb.ai/thebiasbusters/ElectricConsumption</a>"
      ],
      "text/plain": [
       "<IPython.core.display.HTML object>"
      ]
     },
     "metadata": {},
     "output_type": "display_data"
    },
    {
     "data": {
      "text/html": [
       " View sweep at <a href='https://wandb.ai/thebiasbusters/ElectricConsumption/sweeps/imyaimnq' target=\"_blank\">https://wandb.ai/thebiasbusters/ElectricConsumption/sweeps/imyaimnq</a>"
      ],
      "text/plain": [
       "<IPython.core.display.HTML object>"
      ]
     },
     "metadata": {},
     "output_type": "display_data"
    },
    {
     "data": {
      "text/html": [
       " View run at <a href='https://wandb.ai/thebiasbusters/ElectricConsumption/runs/1cg2d49t' target=\"_blank\">https://wandb.ai/thebiasbusters/ElectricConsumption/runs/1cg2d49t</a>"
      ],
      "text/plain": [
       "<IPython.core.display.HTML object>"
      ]
     },
     "metadata": {},
     "output_type": "display_data"
    },
    {
     "data": {
      "text/html": [
       "<style>\n",
       "    table.wandb td:nth-child(1) { padding: 0 10px; text-align: left ; width: auto;} td:nth-child(2) {text-align: left ; width: 100%}\n",
       "    .wandb-row { display: flex; flex-direction: row; flex-wrap: wrap; justify-content: flex-start; width: 100% }\n",
       "    .wandb-col { display: flex; flex-direction: column; flex-basis: 100%; flex: 1; padding: 10px; }\n",
       "    </style>\n",
       "<div class=\"wandb-row\"><div class=\"wandb-col\"><h3>Run history:</h3><br/><table class=\"wandb\"><tr><td>r2</td><td>▁</td></tr></table><br/></div><div class=\"wandb-col\"><h3>Run summary:</h3><br/><table class=\"wandb\"><tr><td>r2</td><td>0.93501</td></tr></table><br/></div></div>"
      ],
      "text/plain": [
       "<IPython.core.display.HTML object>"
      ]
     },
     "metadata": {},
     "output_type": "display_data"
    },
    {
     "data": {
      "text/html": [
       " View run <strong style=\"color:#cdcd00\">hearty-sweep-3</strong> at: <a href='https://wandb.ai/thebiasbusters/ElectricConsumption/runs/1cg2d49t' target=\"_blank\">https://wandb.ai/thebiasbusters/ElectricConsumption/runs/1cg2d49t</a><br/>Synced 5 W&B file(s), 0 media file(s), 0 artifact file(s) and 0 other file(s)"
      ],
      "text/plain": [
       "<IPython.core.display.HTML object>"
      ]
     },
     "metadata": {},
     "output_type": "display_data"
    },
    {
     "data": {
      "text/html": [
       "Find logs at: <code>.\\wandb\\run-20231203_132417-1cg2d49t\\logs</code>"
      ],
      "text/plain": [
       "<IPython.core.display.HTML object>"
      ]
     },
     "metadata": {},
     "output_type": "display_data"
    },
    {
     "name": "stderr",
     "output_type": "stream",
     "text": [
      "\u001b[34m\u001b[1mwandb\u001b[0m: Agent Starting Run: my2gj5iw with config:\n",
      "\u001b[34m\u001b[1mwandb\u001b[0m: \tlearning_rate: 0.00943093290131122\n",
      "\u001b[34m\u001b[1mwandb\u001b[0m: \tmax_depth: 7\n",
      "\u001b[34m\u001b[1mwandb\u001b[0m: \tn_estimators: 844\n",
      "\u001b[34m\u001b[1mwandb\u001b[0m: \tnum_leaves: 46\n",
      "\u001b[34m\u001b[1mwandb\u001b[0m: \treg_alpha: 92\n",
      "\u001b[34m\u001b[1mwandb\u001b[0m: \treg_lambda: 85\n",
      "\u001b[34m\u001b[1mwandb\u001b[0m: \tsubsample: 0.8\n"
     ]
    },
    {
     "data": {
      "text/html": [
       "Tracking run with wandb version 0.16.0"
      ],
      "text/plain": [
       "<IPython.core.display.HTML object>"
      ]
     },
     "metadata": {},
     "output_type": "display_data"
    },
    {
     "data": {
      "text/html": [
       "Run data is saved locally in <code>C:\\Users\\cemal\\Desktop\\Dersler\\Data Informatics\\DI502\\Github\\wandb\\run-20231203_132455-my2gj5iw</code>"
      ],
      "text/plain": [
       "<IPython.core.display.HTML object>"
      ]
     },
     "metadata": {},
     "output_type": "display_data"
    },
    {
     "data": {
      "text/html": [
       "Syncing run <strong><a href='https://wandb.ai/thebiasbusters/ElectricConsumption/runs/my2gj5iw' target=\"_blank\">grateful-sweep-4</a></strong> to <a href='https://wandb.ai/thebiasbusters/ElectricConsumption' target=\"_blank\">Weights & Biases</a> (<a href='https://wandb.me/run' target=\"_blank\">docs</a>)<br/>Sweep page: <a href='https://wandb.ai/thebiasbusters/ElectricConsumption/sweeps/imyaimnq' target=\"_blank\">https://wandb.ai/thebiasbusters/ElectricConsumption/sweeps/imyaimnq</a>"
      ],
      "text/plain": [
       "<IPython.core.display.HTML object>"
      ]
     },
     "metadata": {},
     "output_type": "display_data"
    },
    {
     "data": {
      "text/html": [
       " View project at <a href='https://wandb.ai/thebiasbusters/ElectricConsumption' target=\"_blank\">https://wandb.ai/thebiasbusters/ElectricConsumption</a>"
      ],
      "text/plain": [
       "<IPython.core.display.HTML object>"
      ]
     },
     "metadata": {},
     "output_type": "display_data"
    },
    {
     "data": {
      "text/html": [
       " View sweep at <a href='https://wandb.ai/thebiasbusters/ElectricConsumption/sweeps/imyaimnq' target=\"_blank\">https://wandb.ai/thebiasbusters/ElectricConsumption/sweeps/imyaimnq</a>"
      ],
      "text/plain": [
       "<IPython.core.display.HTML object>"
      ]
     },
     "metadata": {},
     "output_type": "display_data"
    },
    {
     "data": {
      "text/html": [
       " View run at <a href='https://wandb.ai/thebiasbusters/ElectricConsumption/runs/my2gj5iw' target=\"_blank\">https://wandb.ai/thebiasbusters/ElectricConsumption/runs/my2gj5iw</a>"
      ],
      "text/plain": [
       "<IPython.core.display.HTML object>"
      ]
     },
     "metadata": {},
     "output_type": "display_data"
    },
    {
     "data": {
      "text/html": [
       "<style>\n",
       "    table.wandb td:nth-child(1) { padding: 0 10px; text-align: left ; width: auto;} td:nth-child(2) {text-align: left ; width: 100%}\n",
       "    .wandb-row { display: flex; flex-direction: row; flex-wrap: wrap; justify-content: flex-start; width: 100% }\n",
       "    .wandb-col { display: flex; flex-direction: column; flex-basis: 100%; flex: 1; padding: 10px; }\n",
       "    </style>\n",
       "<div class=\"wandb-row\"><div class=\"wandb-col\"><h3>Run history:</h3><br/><table class=\"wandb\"><tr><td>r2</td><td>▁</td></tr></table><br/></div><div class=\"wandb-col\"><h3>Run summary:</h3><br/><table class=\"wandb\"><tr><td>r2</td><td>0.92998</td></tr></table><br/></div></div>"
      ],
      "text/plain": [
       "<IPython.core.display.HTML object>"
      ]
     },
     "metadata": {},
     "output_type": "display_data"
    },
    {
     "data": {
      "text/html": [
       " View run <strong style=\"color:#cdcd00\">grateful-sweep-4</strong> at: <a href='https://wandb.ai/thebiasbusters/ElectricConsumption/runs/my2gj5iw' target=\"_blank\">https://wandb.ai/thebiasbusters/ElectricConsumption/runs/my2gj5iw</a><br/>Synced 5 W&B file(s), 0 media file(s), 0 artifact file(s) and 0 other file(s)"
      ],
      "text/plain": [
       "<IPython.core.display.HTML object>"
      ]
     },
     "metadata": {},
     "output_type": "display_data"
    },
    {
     "data": {
      "text/html": [
       "Find logs at: <code>.\\wandb\\run-20231203_132455-my2gj5iw\\logs</code>"
      ],
      "text/plain": [
       "<IPython.core.display.HTML object>"
      ]
     },
     "metadata": {},
     "output_type": "display_data"
    },
    {
     "name": "stderr",
     "output_type": "stream",
     "text": [
      "\u001b[34m\u001b[1mwandb\u001b[0m: Agent Starting Run: jdux5sxs with config:\n",
      "\u001b[34m\u001b[1mwandb\u001b[0m: \tlearning_rate: 0.17263852257373366\n",
      "\u001b[34m\u001b[1mwandb\u001b[0m: \tmax_depth: 7\n",
      "\u001b[34m\u001b[1mwandb\u001b[0m: \tn_estimators: 879\n",
      "\u001b[34m\u001b[1mwandb\u001b[0m: \tnum_leaves: 45\n",
      "\u001b[34m\u001b[1mwandb\u001b[0m: \treg_alpha: 78\n",
      "\u001b[34m\u001b[1mwandb\u001b[0m: \treg_lambda: 90\n",
      "\u001b[34m\u001b[1mwandb\u001b[0m: \tsubsample: 0.8\n"
     ]
    },
    {
     "data": {
      "text/html": [
       "Tracking run with wandb version 0.16.0"
      ],
      "text/plain": [
       "<IPython.core.display.HTML object>"
      ]
     },
     "metadata": {},
     "output_type": "display_data"
    },
    {
     "data": {
      "text/html": [
       "Run data is saved locally in <code>C:\\Users\\cemal\\Desktop\\Dersler\\Data Informatics\\DI502\\Github\\wandb\\run-20231203_132537-jdux5sxs</code>"
      ],
      "text/plain": [
       "<IPython.core.display.HTML object>"
      ]
     },
     "metadata": {},
     "output_type": "display_data"
    },
    {
     "data": {
      "text/html": [
       "Syncing run <strong><a href='https://wandb.ai/thebiasbusters/ElectricConsumption/runs/jdux5sxs' target=\"_blank\">celestial-sweep-5</a></strong> to <a href='https://wandb.ai/thebiasbusters/ElectricConsumption' target=\"_blank\">Weights & Biases</a> (<a href='https://wandb.me/run' target=\"_blank\">docs</a>)<br/>Sweep page: <a href='https://wandb.ai/thebiasbusters/ElectricConsumption/sweeps/imyaimnq' target=\"_blank\">https://wandb.ai/thebiasbusters/ElectricConsumption/sweeps/imyaimnq</a>"
      ],
      "text/plain": [
       "<IPython.core.display.HTML object>"
      ]
     },
     "metadata": {},
     "output_type": "display_data"
    },
    {
     "data": {
      "text/html": [
       " View project at <a href='https://wandb.ai/thebiasbusters/ElectricConsumption' target=\"_blank\">https://wandb.ai/thebiasbusters/ElectricConsumption</a>"
      ],
      "text/plain": [
       "<IPython.core.display.HTML object>"
      ]
     },
     "metadata": {},
     "output_type": "display_data"
    },
    {
     "data": {
      "text/html": [
       " View sweep at <a href='https://wandb.ai/thebiasbusters/ElectricConsumption/sweeps/imyaimnq' target=\"_blank\">https://wandb.ai/thebiasbusters/ElectricConsumption/sweeps/imyaimnq</a>"
      ],
      "text/plain": [
       "<IPython.core.display.HTML object>"
      ]
     },
     "metadata": {},
     "output_type": "display_data"
    },
    {
     "data": {
      "text/html": [
       " View run at <a href='https://wandb.ai/thebiasbusters/ElectricConsumption/runs/jdux5sxs' target=\"_blank\">https://wandb.ai/thebiasbusters/ElectricConsumption/runs/jdux5sxs</a>"
      ],
      "text/plain": [
       "<IPython.core.display.HTML object>"
      ]
     },
     "metadata": {},
     "output_type": "display_data"
    },
    {
     "data": {
      "text/html": [
       "<style>\n",
       "    table.wandb td:nth-child(1) { padding: 0 10px; text-align: left ; width: auto;} td:nth-child(2) {text-align: left ; width: 100%}\n",
       "    .wandb-row { display: flex; flex-direction: row; flex-wrap: wrap; justify-content: flex-start; width: 100% }\n",
       "    .wandb-col { display: flex; flex-direction: column; flex-basis: 100%; flex: 1; padding: 10px; }\n",
       "    </style>\n",
       "<div class=\"wandb-row\"><div class=\"wandb-col\"><h3>Run history:</h3><br/><table class=\"wandb\"><tr><td>r2</td><td>▁</td></tr></table><br/></div><div class=\"wandb-col\"><h3>Run summary:</h3><br/><table class=\"wandb\"><tr><td>r2</td><td>0.94249</td></tr></table><br/></div></div>"
      ],
      "text/plain": [
       "<IPython.core.display.HTML object>"
      ]
     },
     "metadata": {},
     "output_type": "display_data"
    },
    {
     "data": {
      "text/html": [
       " View run <strong style=\"color:#cdcd00\">celestial-sweep-5</strong> at: <a href='https://wandb.ai/thebiasbusters/ElectricConsumption/runs/jdux5sxs' target=\"_blank\">https://wandb.ai/thebiasbusters/ElectricConsumption/runs/jdux5sxs</a><br/>Synced 5 W&B file(s), 0 media file(s), 0 artifact file(s) and 0 other file(s)"
      ],
      "text/plain": [
       "<IPython.core.display.HTML object>"
      ]
     },
     "metadata": {},
     "output_type": "display_data"
    },
    {
     "data": {
      "text/html": [
       "Find logs at: <code>.\\wandb\\run-20231203_132537-jdux5sxs\\logs</code>"
      ],
      "text/plain": [
       "<IPython.core.display.HTML object>"
      ]
     },
     "metadata": {},
     "output_type": "display_data"
    },
    {
     "name": "stderr",
     "output_type": "stream",
     "text": [
      "\u001b[34m\u001b[1mwandb\u001b[0m: Agent Starting Run: 85zmn5hx with config:\n",
      "\u001b[34m\u001b[1mwandb\u001b[0m: \tlearning_rate: 0.19563074987436957\n",
      "\u001b[34m\u001b[1mwandb\u001b[0m: \tmax_depth: 4\n",
      "\u001b[34m\u001b[1mwandb\u001b[0m: \tn_estimators: 808\n",
      "\u001b[34m\u001b[1mwandb\u001b[0m: \tnum_leaves: 50\n",
      "\u001b[34m\u001b[1mwandb\u001b[0m: \treg_alpha: 100\n",
      "\u001b[34m\u001b[1mwandb\u001b[0m: \treg_lambda: 95\n",
      "\u001b[34m\u001b[1mwandb\u001b[0m: \tsubsample: 0.8\n"
     ]
    },
    {
     "data": {
      "text/html": [
       "Tracking run with wandb version 0.16.0"
      ],
      "text/plain": [
       "<IPython.core.display.HTML object>"
      ]
     },
     "metadata": {},
     "output_type": "display_data"
    },
    {
     "data": {
      "text/html": [
       "Run data is saved locally in <code>C:\\Users\\cemal\\Desktop\\Dersler\\Data Informatics\\DI502\\Github\\wandb\\run-20231203_132620-85zmn5hx</code>"
      ],
      "text/plain": [
       "<IPython.core.display.HTML object>"
      ]
     },
     "metadata": {},
     "output_type": "display_data"
    },
    {
     "data": {
      "text/html": [
       "Syncing run <strong><a href='https://wandb.ai/thebiasbusters/ElectricConsumption/runs/85zmn5hx' target=\"_blank\">driven-sweep-6</a></strong> to <a href='https://wandb.ai/thebiasbusters/ElectricConsumption' target=\"_blank\">Weights & Biases</a> (<a href='https://wandb.me/run' target=\"_blank\">docs</a>)<br/>Sweep page: <a href='https://wandb.ai/thebiasbusters/ElectricConsumption/sweeps/imyaimnq' target=\"_blank\">https://wandb.ai/thebiasbusters/ElectricConsumption/sweeps/imyaimnq</a>"
      ],
      "text/plain": [
       "<IPython.core.display.HTML object>"
      ]
     },
     "metadata": {},
     "output_type": "display_data"
    },
    {
     "data": {
      "text/html": [
       " View project at <a href='https://wandb.ai/thebiasbusters/ElectricConsumption' target=\"_blank\">https://wandb.ai/thebiasbusters/ElectricConsumption</a>"
      ],
      "text/plain": [
       "<IPython.core.display.HTML object>"
      ]
     },
     "metadata": {},
     "output_type": "display_data"
    },
    {
     "data": {
      "text/html": [
       " View sweep at <a href='https://wandb.ai/thebiasbusters/ElectricConsumption/sweeps/imyaimnq' target=\"_blank\">https://wandb.ai/thebiasbusters/ElectricConsumption/sweeps/imyaimnq</a>"
      ],
      "text/plain": [
       "<IPython.core.display.HTML object>"
      ]
     },
     "metadata": {},
     "output_type": "display_data"
    },
    {
     "data": {
      "text/html": [
       " View run at <a href='https://wandb.ai/thebiasbusters/ElectricConsumption/runs/85zmn5hx' target=\"_blank\">https://wandb.ai/thebiasbusters/ElectricConsumption/runs/85zmn5hx</a>"
      ],
      "text/plain": [
       "<IPython.core.display.HTML object>"
      ]
     },
     "metadata": {},
     "output_type": "display_data"
    },
    {
     "data": {
      "text/html": [
       "<style>\n",
       "    table.wandb td:nth-child(1) { padding: 0 10px; text-align: left ; width: auto;} td:nth-child(2) {text-align: left ; width: 100%}\n",
       "    .wandb-row { display: flex; flex-direction: row; flex-wrap: wrap; justify-content: flex-start; width: 100% }\n",
       "    .wandb-col { display: flex; flex-direction: column; flex-basis: 100%; flex: 1; padding: 10px; }\n",
       "    </style>\n",
       "<div class=\"wandb-row\"><div class=\"wandb-col\"><h3>Run history:</h3><br/><table class=\"wandb\"><tr><td>r2</td><td>▁</td></tr></table><br/></div><div class=\"wandb-col\"><h3>Run summary:</h3><br/><table class=\"wandb\"><tr><td>r2</td><td>0.91973</td></tr></table><br/></div></div>"
      ],
      "text/plain": [
       "<IPython.core.display.HTML object>"
      ]
     },
     "metadata": {},
     "output_type": "display_data"
    },
    {
     "data": {
      "text/html": [
       " View run <strong style=\"color:#cdcd00\">driven-sweep-6</strong> at: <a href='https://wandb.ai/thebiasbusters/ElectricConsumption/runs/85zmn5hx' target=\"_blank\">https://wandb.ai/thebiasbusters/ElectricConsumption/runs/85zmn5hx</a><br/>Synced 5 W&B file(s), 0 media file(s), 0 artifact file(s) and 0 other file(s)"
      ],
      "text/plain": [
       "<IPython.core.display.HTML object>"
      ]
     },
     "metadata": {},
     "output_type": "display_data"
    },
    {
     "data": {
      "text/html": [
       "Find logs at: <code>.\\wandb\\run-20231203_132620-85zmn5hx\\logs</code>"
      ],
      "text/plain": [
       "<IPython.core.display.HTML object>"
      ]
     },
     "metadata": {},
     "output_type": "display_data"
    },
    {
     "name": "stderr",
     "output_type": "stream",
     "text": [
      "\u001b[34m\u001b[1mwandb\u001b[0m: Agent Starting Run: 8gtmrpus with config:\n",
      "\u001b[34m\u001b[1mwandb\u001b[0m: \tlearning_rate: 0.17181146536435135\n",
      "\u001b[34m\u001b[1mwandb\u001b[0m: \tmax_depth: 7\n",
      "\u001b[34m\u001b[1mwandb\u001b[0m: \tn_estimators: 950\n",
      "\u001b[34m\u001b[1mwandb\u001b[0m: \tnum_leaves: 34\n",
      "\u001b[34m\u001b[1mwandb\u001b[0m: \treg_alpha: 88\n",
      "\u001b[34m\u001b[1mwandb\u001b[0m: \treg_lambda: 66\n",
      "\u001b[34m\u001b[1mwandb\u001b[0m: \tsubsample: 0.8\n"
     ]
    },
    {
     "data": {
      "text/html": [
       "Tracking run with wandb version 0.16.0"
      ],
      "text/plain": [
       "<IPython.core.display.HTML object>"
      ]
     },
     "metadata": {},
     "output_type": "display_data"
    },
    {
     "data": {
      "text/html": [
       "Run data is saved locally in <code>C:\\Users\\cemal\\Desktop\\Dersler\\Data Informatics\\DI502\\Github\\wandb\\run-20231203_132709-8gtmrpus</code>"
      ],
      "text/plain": [
       "<IPython.core.display.HTML object>"
      ]
     },
     "metadata": {},
     "output_type": "display_data"
    },
    {
     "data": {
      "text/html": [
       "Syncing run <strong><a href='https://wandb.ai/thebiasbusters/ElectricConsumption/runs/8gtmrpus' target=\"_blank\">gallant-sweep-7</a></strong> to <a href='https://wandb.ai/thebiasbusters/ElectricConsumption' target=\"_blank\">Weights & Biases</a> (<a href='https://wandb.me/run' target=\"_blank\">docs</a>)<br/>Sweep page: <a href='https://wandb.ai/thebiasbusters/ElectricConsumption/sweeps/imyaimnq' target=\"_blank\">https://wandb.ai/thebiasbusters/ElectricConsumption/sweeps/imyaimnq</a>"
      ],
      "text/plain": [
       "<IPython.core.display.HTML object>"
      ]
     },
     "metadata": {},
     "output_type": "display_data"
    },
    {
     "data": {
      "text/html": [
       " View project at <a href='https://wandb.ai/thebiasbusters/ElectricConsumption' target=\"_blank\">https://wandb.ai/thebiasbusters/ElectricConsumption</a>"
      ],
      "text/plain": [
       "<IPython.core.display.HTML object>"
      ]
     },
     "metadata": {},
     "output_type": "display_data"
    },
    {
     "data": {
      "text/html": [
       " View sweep at <a href='https://wandb.ai/thebiasbusters/ElectricConsumption/sweeps/imyaimnq' target=\"_blank\">https://wandb.ai/thebiasbusters/ElectricConsumption/sweeps/imyaimnq</a>"
      ],
      "text/plain": [
       "<IPython.core.display.HTML object>"
      ]
     },
     "metadata": {},
     "output_type": "display_data"
    },
    {
     "data": {
      "text/html": [
       " View run at <a href='https://wandb.ai/thebiasbusters/ElectricConsumption/runs/8gtmrpus' target=\"_blank\">https://wandb.ai/thebiasbusters/ElectricConsumption/runs/8gtmrpus</a>"
      ],
      "text/plain": [
       "<IPython.core.display.HTML object>"
      ]
     },
     "metadata": {},
     "output_type": "display_data"
    },
    {
     "data": {
      "text/html": [
       "<style>\n",
       "    table.wandb td:nth-child(1) { padding: 0 10px; text-align: left ; width: auto;} td:nth-child(2) {text-align: left ; width: 100%}\n",
       "    .wandb-row { display: flex; flex-direction: row; flex-wrap: wrap; justify-content: flex-start; width: 100% }\n",
       "    .wandb-col { display: flex; flex-direction: column; flex-basis: 100%; flex: 1; padding: 10px; }\n",
       "    </style>\n",
       "<div class=\"wandb-row\"><div class=\"wandb-col\"><h3>Run history:</h3><br/><table class=\"wandb\"><tr><td>r2</td><td>▁</td></tr></table><br/></div><div class=\"wandb-col\"><h3>Run summary:</h3><br/><table class=\"wandb\"><tr><td>r2</td><td>0.93819</td></tr></table><br/></div></div>"
      ],
      "text/plain": [
       "<IPython.core.display.HTML object>"
      ]
     },
     "metadata": {},
     "output_type": "display_data"
    },
    {
     "data": {
      "text/html": [
       " View run <strong style=\"color:#cdcd00\">gallant-sweep-7</strong> at: <a href='https://wandb.ai/thebiasbusters/ElectricConsumption/runs/8gtmrpus' target=\"_blank\">https://wandb.ai/thebiasbusters/ElectricConsumption/runs/8gtmrpus</a><br/>Synced 5 W&B file(s), 0 media file(s), 0 artifact file(s) and 0 other file(s)"
      ],
      "text/plain": [
       "<IPython.core.display.HTML object>"
      ]
     },
     "metadata": {},
     "output_type": "display_data"
    },
    {
     "data": {
      "text/html": [
       "Find logs at: <code>.\\wandb\\run-20231203_132709-8gtmrpus\\logs</code>"
      ],
      "text/plain": [
       "<IPython.core.display.HTML object>"
      ]
     },
     "metadata": {},
     "output_type": "display_data"
    },
    {
     "name": "stderr",
     "output_type": "stream",
     "text": [
      "\u001b[34m\u001b[1mwandb\u001b[0m: Agent Starting Run: dgeypzsy with config:\n",
      "\u001b[34m\u001b[1mwandb\u001b[0m: \tlearning_rate: 0.189405340337235\n",
      "\u001b[34m\u001b[1mwandb\u001b[0m: \tmax_depth: 7\n",
      "\u001b[34m\u001b[1mwandb\u001b[0m: \tn_estimators: 559\n",
      "\u001b[34m\u001b[1mwandb\u001b[0m: \tnum_leaves: 41\n",
      "\u001b[34m\u001b[1mwandb\u001b[0m: \treg_alpha: 74\n",
      "\u001b[34m\u001b[1mwandb\u001b[0m: \treg_lambda: 94\n",
      "\u001b[34m\u001b[1mwandb\u001b[0m: \tsubsample: 0.8\n"
     ]
    },
    {
     "data": {
      "text/html": [
       "Tracking run with wandb version 0.16.0"
      ],
      "text/plain": [
       "<IPython.core.display.HTML object>"
      ]
     },
     "metadata": {},
     "output_type": "display_data"
    },
    {
     "data": {
      "text/html": [
       "Run data is saved locally in <code>C:\\Users\\cemal\\Desktop\\Dersler\\Data Informatics\\DI502\\Github\\wandb\\run-20231203_132751-dgeypzsy</code>"
      ],
      "text/plain": [
       "<IPython.core.display.HTML object>"
      ]
     },
     "metadata": {},
     "output_type": "display_data"
    },
    {
     "data": {
      "text/html": [
       "Syncing run <strong><a href='https://wandb.ai/thebiasbusters/ElectricConsumption/runs/dgeypzsy' target=\"_blank\">comfy-sweep-8</a></strong> to <a href='https://wandb.ai/thebiasbusters/ElectricConsumption' target=\"_blank\">Weights & Biases</a> (<a href='https://wandb.me/run' target=\"_blank\">docs</a>)<br/>Sweep page: <a href='https://wandb.ai/thebiasbusters/ElectricConsumption/sweeps/imyaimnq' target=\"_blank\">https://wandb.ai/thebiasbusters/ElectricConsumption/sweeps/imyaimnq</a>"
      ],
      "text/plain": [
       "<IPython.core.display.HTML object>"
      ]
     },
     "metadata": {},
     "output_type": "display_data"
    },
    {
     "data": {
      "text/html": [
       " View project at <a href='https://wandb.ai/thebiasbusters/ElectricConsumption' target=\"_blank\">https://wandb.ai/thebiasbusters/ElectricConsumption</a>"
      ],
      "text/plain": [
       "<IPython.core.display.HTML object>"
      ]
     },
     "metadata": {},
     "output_type": "display_data"
    },
    {
     "data": {
      "text/html": [
       " View sweep at <a href='https://wandb.ai/thebiasbusters/ElectricConsumption/sweeps/imyaimnq' target=\"_blank\">https://wandb.ai/thebiasbusters/ElectricConsumption/sweeps/imyaimnq</a>"
      ],
      "text/plain": [
       "<IPython.core.display.HTML object>"
      ]
     },
     "metadata": {},
     "output_type": "display_data"
    },
    {
     "data": {
      "text/html": [
       " View run at <a href='https://wandb.ai/thebiasbusters/ElectricConsumption/runs/dgeypzsy' target=\"_blank\">https://wandb.ai/thebiasbusters/ElectricConsumption/runs/dgeypzsy</a>"
      ],
      "text/plain": [
       "<IPython.core.display.HTML object>"
      ]
     },
     "metadata": {},
     "output_type": "display_data"
    },
    {
     "data": {
      "text/html": [
       "<style>\n",
       "    table.wandb td:nth-child(1) { padding: 0 10px; text-align: left ; width: auto;} td:nth-child(2) {text-align: left ; width: 100%}\n",
       "    .wandb-row { display: flex; flex-direction: row; flex-wrap: wrap; justify-content: flex-start; width: 100% }\n",
       "    .wandb-col { display: flex; flex-direction: column; flex-basis: 100%; flex: 1; padding: 10px; }\n",
       "    </style>\n",
       "<div class=\"wandb-row\"><div class=\"wandb-col\"><h3>Run history:</h3><br/><table class=\"wandb\"><tr><td>r2</td><td>▁</td></tr></table><br/></div><div class=\"wandb-col\"><h3>Run summary:</h3><br/><table class=\"wandb\"><tr><td>r2</td><td>0.92502</td></tr></table><br/></div></div>"
      ],
      "text/plain": [
       "<IPython.core.display.HTML object>"
      ]
     },
     "metadata": {},
     "output_type": "display_data"
    },
    {
     "data": {
      "text/html": [
       " View run <strong style=\"color:#cdcd00\">comfy-sweep-8</strong> at: <a href='https://wandb.ai/thebiasbusters/ElectricConsumption/runs/dgeypzsy' target=\"_blank\">https://wandb.ai/thebiasbusters/ElectricConsumption/runs/dgeypzsy</a><br/>Synced 5 W&B file(s), 0 media file(s), 0 artifact file(s) and 0 other file(s)"
      ],
      "text/plain": [
       "<IPython.core.display.HTML object>"
      ]
     },
     "metadata": {},
     "output_type": "display_data"
    },
    {
     "data": {
      "text/html": [
       "Find logs at: <code>.\\wandb\\run-20231203_132751-dgeypzsy\\logs</code>"
      ],
      "text/plain": [
       "<IPython.core.display.HTML object>"
      ]
     },
     "metadata": {},
     "output_type": "display_data"
    },
    {
     "name": "stderr",
     "output_type": "stream",
     "text": [
      "\u001b[34m\u001b[1mwandb\u001b[0m: Agent Starting Run: k7o4vq10 with config:\n",
      "\u001b[34m\u001b[1mwandb\u001b[0m: \tlearning_rate: 0.18261919110176353\n",
      "\u001b[34m\u001b[1mwandb\u001b[0m: \tmax_depth: 7\n",
      "\u001b[34m\u001b[1mwandb\u001b[0m: \tn_estimators: 984\n",
      "\u001b[34m\u001b[1mwandb\u001b[0m: \tnum_leaves: 35\n",
      "\u001b[34m\u001b[1mwandb\u001b[0m: \treg_alpha: 96\n",
      "\u001b[34m\u001b[1mwandb\u001b[0m: \treg_lambda: 77\n",
      "\u001b[34m\u001b[1mwandb\u001b[0m: \tsubsample: 1\n"
     ]
    },
    {
     "data": {
      "text/html": [
       "Tracking run with wandb version 0.16.0"
      ],
      "text/plain": [
       "<IPython.core.display.HTML object>"
      ]
     },
     "metadata": {},
     "output_type": "display_data"
    },
    {
     "data": {
      "text/html": [
       "Run data is saved locally in <code>C:\\Users\\cemal\\Desktop\\Dersler\\Data Informatics\\DI502\\Github\\wandb\\run-20231203_132839-k7o4vq10</code>"
      ],
      "text/plain": [
       "<IPython.core.display.HTML object>"
      ]
     },
     "metadata": {},
     "output_type": "display_data"
    },
    {
     "data": {
      "text/html": [
       "Syncing run <strong><a href='https://wandb.ai/thebiasbusters/ElectricConsumption/runs/k7o4vq10' target=\"_blank\">polar-sweep-9</a></strong> to <a href='https://wandb.ai/thebiasbusters/ElectricConsumption' target=\"_blank\">Weights & Biases</a> (<a href='https://wandb.me/run' target=\"_blank\">docs</a>)<br/>Sweep page: <a href='https://wandb.ai/thebiasbusters/ElectricConsumption/sweeps/imyaimnq' target=\"_blank\">https://wandb.ai/thebiasbusters/ElectricConsumption/sweeps/imyaimnq</a>"
      ],
      "text/plain": [
       "<IPython.core.display.HTML object>"
      ]
     },
     "metadata": {},
     "output_type": "display_data"
    },
    {
     "data": {
      "text/html": [
       " View project at <a href='https://wandb.ai/thebiasbusters/ElectricConsumption' target=\"_blank\">https://wandb.ai/thebiasbusters/ElectricConsumption</a>"
      ],
      "text/plain": [
       "<IPython.core.display.HTML object>"
      ]
     },
     "metadata": {},
     "output_type": "display_data"
    },
    {
     "data": {
      "text/html": [
       " View sweep at <a href='https://wandb.ai/thebiasbusters/ElectricConsumption/sweeps/imyaimnq' target=\"_blank\">https://wandb.ai/thebiasbusters/ElectricConsumption/sweeps/imyaimnq</a>"
      ],
      "text/plain": [
       "<IPython.core.display.HTML object>"
      ]
     },
     "metadata": {},
     "output_type": "display_data"
    },
    {
     "data": {
      "text/html": [
       " View run at <a href='https://wandb.ai/thebiasbusters/ElectricConsumption/runs/k7o4vq10' target=\"_blank\">https://wandb.ai/thebiasbusters/ElectricConsumption/runs/k7o4vq10</a>"
      ],
      "text/plain": [
       "<IPython.core.display.HTML object>"
      ]
     },
     "metadata": {},
     "output_type": "display_data"
    },
    {
     "data": {
      "text/html": [
       "<style>\n",
       "    table.wandb td:nth-child(1) { padding: 0 10px; text-align: left ; width: auto;} td:nth-child(2) {text-align: left ; width: 100%}\n",
       "    .wandb-row { display: flex; flex-direction: row; flex-wrap: wrap; justify-content: flex-start; width: 100% }\n",
       "    .wandb-col { display: flex; flex-direction: column; flex-basis: 100%; flex: 1; padding: 10px; }\n",
       "    </style>\n",
       "<div class=\"wandb-row\"><div class=\"wandb-col\"><h3>Run history:</h3><br/><table class=\"wandb\"><tr><td>r2</td><td>▁</td></tr></table><br/></div><div class=\"wandb-col\"><h3>Run summary:</h3><br/><table class=\"wandb\"><tr><td>r2</td><td>0.91676</td></tr></table><br/></div></div>"
      ],
      "text/plain": [
       "<IPython.core.display.HTML object>"
      ]
     },
     "metadata": {},
     "output_type": "display_data"
    },
    {
     "data": {
      "text/html": [
       " View run <strong style=\"color:#cdcd00\">polar-sweep-9</strong> at: <a href='https://wandb.ai/thebiasbusters/ElectricConsumption/runs/k7o4vq10' target=\"_blank\">https://wandb.ai/thebiasbusters/ElectricConsumption/runs/k7o4vq10</a><br/>Synced 5 W&B file(s), 0 media file(s), 0 artifact file(s) and 0 other file(s)"
      ],
      "text/plain": [
       "<IPython.core.display.HTML object>"
      ]
     },
     "metadata": {},
     "output_type": "display_data"
    },
    {
     "data": {
      "text/html": [
       "Find logs at: <code>.\\wandb\\run-20231203_132839-k7o4vq10\\logs</code>"
      ],
      "text/plain": [
       "<IPython.core.display.HTML object>"
      ]
     },
     "metadata": {},
     "output_type": "display_data"
    },
    {
     "name": "stderr",
     "output_type": "stream",
     "text": [
      "\u001b[34m\u001b[1mwandb\u001b[0m: Agent Starting Run: m1g7tsg1 with config:\n",
      "\u001b[34m\u001b[1mwandb\u001b[0m: \tlearning_rate: 0.11732599029565892\n",
      "\u001b[34m\u001b[1mwandb\u001b[0m: \tmax_depth: 6\n",
      "\u001b[34m\u001b[1mwandb\u001b[0m: \tn_estimators: 841\n",
      "\u001b[34m\u001b[1mwandb\u001b[0m: \tnum_leaves: 40\n",
      "\u001b[34m\u001b[1mwandb\u001b[0m: \treg_alpha: 75\n",
      "\u001b[34m\u001b[1mwandb\u001b[0m: \treg_lambda: 74\n",
      "\u001b[34m\u001b[1mwandb\u001b[0m: \tsubsample: 0.8\n"
     ]
    },
    {
     "data": {
      "text/html": [
       "Tracking run with wandb version 0.16.0"
      ],
      "text/plain": [
       "<IPython.core.display.HTML object>"
      ]
     },
     "metadata": {},
     "output_type": "display_data"
    },
    {
     "data": {
      "text/html": [
       "Run data is saved locally in <code>C:\\Users\\cemal\\Desktop\\Dersler\\Data Informatics\\DI502\\Github\\wandb\\run-20231203_132915-m1g7tsg1</code>"
      ],
      "text/plain": [
       "<IPython.core.display.HTML object>"
      ]
     },
     "metadata": {},
     "output_type": "display_data"
    },
    {
     "data": {
      "text/html": [
       "Syncing run <strong><a href='https://wandb.ai/thebiasbusters/ElectricConsumption/runs/m1g7tsg1' target=\"_blank\">blooming-sweep-10</a></strong> to <a href='https://wandb.ai/thebiasbusters/ElectricConsumption' target=\"_blank\">Weights & Biases</a> (<a href='https://wandb.me/run' target=\"_blank\">docs</a>)<br/>Sweep page: <a href='https://wandb.ai/thebiasbusters/ElectricConsumption/sweeps/imyaimnq' target=\"_blank\">https://wandb.ai/thebiasbusters/ElectricConsumption/sweeps/imyaimnq</a>"
      ],
      "text/plain": [
       "<IPython.core.display.HTML object>"
      ]
     },
     "metadata": {},
     "output_type": "display_data"
    },
    {
     "data": {
      "text/html": [
       " View project at <a href='https://wandb.ai/thebiasbusters/ElectricConsumption' target=\"_blank\">https://wandb.ai/thebiasbusters/ElectricConsumption</a>"
      ],
      "text/plain": [
       "<IPython.core.display.HTML object>"
      ]
     },
     "metadata": {},
     "output_type": "display_data"
    },
    {
     "data": {
      "text/html": [
       " View sweep at <a href='https://wandb.ai/thebiasbusters/ElectricConsumption/sweeps/imyaimnq' target=\"_blank\">https://wandb.ai/thebiasbusters/ElectricConsumption/sweeps/imyaimnq</a>"
      ],
      "text/plain": [
       "<IPython.core.display.HTML object>"
      ]
     },
     "metadata": {},
     "output_type": "display_data"
    },
    {
     "data": {
      "text/html": [
       " View run at <a href='https://wandb.ai/thebiasbusters/ElectricConsumption/runs/m1g7tsg1' target=\"_blank\">https://wandb.ai/thebiasbusters/ElectricConsumption/runs/m1g7tsg1</a>"
      ],
      "text/plain": [
       "<IPython.core.display.HTML object>"
      ]
     },
     "metadata": {},
     "output_type": "display_data"
    },
    {
     "data": {
      "text/html": [
       "<style>\n",
       "    table.wandb td:nth-child(1) { padding: 0 10px; text-align: left ; width: auto;} td:nth-child(2) {text-align: left ; width: 100%}\n",
       "    .wandb-row { display: flex; flex-direction: row; flex-wrap: wrap; justify-content: flex-start; width: 100% }\n",
       "    .wandb-col { display: flex; flex-direction: column; flex-basis: 100%; flex: 1; padding: 10px; }\n",
       "    </style>\n",
       "<div class=\"wandb-row\"><div class=\"wandb-col\"><h3>Run history:</h3><br/><table class=\"wandb\"><tr><td>r2</td><td>▁</td></tr></table><br/></div><div class=\"wandb-col\"><h3>Run summary:</h3><br/><table class=\"wandb\"><tr><td>r2</td><td>0.92116</td></tr></table><br/></div></div>"
      ],
      "text/plain": [
       "<IPython.core.display.HTML object>"
      ]
     },
     "metadata": {},
     "output_type": "display_data"
    },
    {
     "data": {
      "text/html": [
       " View run <strong style=\"color:#cdcd00\">blooming-sweep-10</strong> at: <a href='https://wandb.ai/thebiasbusters/ElectricConsumption/runs/m1g7tsg1' target=\"_blank\">https://wandb.ai/thebiasbusters/ElectricConsumption/runs/m1g7tsg1</a><br/>Synced 5 W&B file(s), 0 media file(s), 0 artifact file(s) and 0 other file(s)"
      ],
      "text/plain": [
       "<IPython.core.display.HTML object>"
      ]
     },
     "metadata": {},
     "output_type": "display_data"
    },
    {
     "data": {
      "text/html": [
       "Find logs at: <code>.\\wandb\\run-20231203_132915-m1g7tsg1\\logs</code>"
      ],
      "text/plain": [
       "<IPython.core.display.HTML object>"
      ]
     },
     "metadata": {},
     "output_type": "display_data"
    },
    {
     "name": "stderr",
     "output_type": "stream",
     "text": [
      "\u001b[34m\u001b[1mwandb\u001b[0m: Agent Starting Run: 63gxtxlt with config:\n",
      "\u001b[34m\u001b[1mwandb\u001b[0m: \tlearning_rate: 0.13911435100017552\n",
      "\u001b[34m\u001b[1mwandb\u001b[0m: \tmax_depth: 7\n",
      "\u001b[34m\u001b[1mwandb\u001b[0m: \tn_estimators: 905\n",
      "\u001b[34m\u001b[1mwandb\u001b[0m: \tnum_leaves: 27\n",
      "\u001b[34m\u001b[1mwandb\u001b[0m: \treg_alpha: 85\n",
      "\u001b[34m\u001b[1mwandb\u001b[0m: \treg_lambda: 77\n",
      "\u001b[34m\u001b[1mwandb\u001b[0m: \tsubsample: 0.9\n"
     ]
    },
    {
     "data": {
      "text/html": [
       "Tracking run with wandb version 0.16.0"
      ],
      "text/plain": [
       "<IPython.core.display.HTML object>"
      ]
     },
     "metadata": {},
     "output_type": "display_data"
    },
    {
     "data": {
      "text/html": [
       "Run data is saved locally in <code>C:\\Users\\cemal\\Desktop\\Dersler\\Data Informatics\\DI502\\Github\\wandb\\run-20231203_132957-63gxtxlt</code>"
      ],
      "text/plain": [
       "<IPython.core.display.HTML object>"
      ]
     },
     "metadata": {},
     "output_type": "display_data"
    },
    {
     "data": {
      "text/html": [
       "Syncing run <strong><a href='https://wandb.ai/thebiasbusters/ElectricConsumption/runs/63gxtxlt' target=\"_blank\">daily-sweep-11</a></strong> to <a href='https://wandb.ai/thebiasbusters/ElectricConsumption' target=\"_blank\">Weights & Biases</a> (<a href='https://wandb.me/run' target=\"_blank\">docs</a>)<br/>Sweep page: <a href='https://wandb.ai/thebiasbusters/ElectricConsumption/sweeps/imyaimnq' target=\"_blank\">https://wandb.ai/thebiasbusters/ElectricConsumption/sweeps/imyaimnq</a>"
      ],
      "text/plain": [
       "<IPython.core.display.HTML object>"
      ]
     },
     "metadata": {},
     "output_type": "display_data"
    },
    {
     "data": {
      "text/html": [
       " View project at <a href='https://wandb.ai/thebiasbusters/ElectricConsumption' target=\"_blank\">https://wandb.ai/thebiasbusters/ElectricConsumption</a>"
      ],
      "text/plain": [
       "<IPython.core.display.HTML object>"
      ]
     },
     "metadata": {},
     "output_type": "display_data"
    },
    {
     "data": {
      "text/html": [
       " View sweep at <a href='https://wandb.ai/thebiasbusters/ElectricConsumption/sweeps/imyaimnq' target=\"_blank\">https://wandb.ai/thebiasbusters/ElectricConsumption/sweeps/imyaimnq</a>"
      ],
      "text/plain": [
       "<IPython.core.display.HTML object>"
      ]
     },
     "metadata": {},
     "output_type": "display_data"
    },
    {
     "data": {
      "text/html": [
       " View run at <a href='https://wandb.ai/thebiasbusters/ElectricConsumption/runs/63gxtxlt' target=\"_blank\">https://wandb.ai/thebiasbusters/ElectricConsumption/runs/63gxtxlt</a>"
      ],
      "text/plain": [
       "<IPython.core.display.HTML object>"
      ]
     },
     "metadata": {},
     "output_type": "display_data"
    },
    {
     "data": {
      "text/html": [
       "<style>\n",
       "    table.wandb td:nth-child(1) { padding: 0 10px; text-align: left ; width: auto;} td:nth-child(2) {text-align: left ; width: 100%}\n",
       "    .wandb-row { display: flex; flex-direction: row; flex-wrap: wrap; justify-content: flex-start; width: 100% }\n",
       "    .wandb-col { display: flex; flex-direction: column; flex-basis: 100%; flex: 1; padding: 10px; }\n",
       "    </style>\n",
       "<div class=\"wandb-row\"><div class=\"wandb-col\"><h3>Run history:</h3><br/><table class=\"wandb\"><tr><td>r2</td><td>▁</td></tr></table><br/></div><div class=\"wandb-col\"><h3>Run summary:</h3><br/><table class=\"wandb\"><tr><td>r2</td><td>0.90664</td></tr></table><br/></div></div>"
      ],
      "text/plain": [
       "<IPython.core.display.HTML object>"
      ]
     },
     "metadata": {},
     "output_type": "display_data"
    },
    {
     "data": {
      "text/html": [
       " View run <strong style=\"color:#cdcd00\">daily-sweep-11</strong> at: <a href='https://wandb.ai/thebiasbusters/ElectricConsumption/runs/63gxtxlt' target=\"_blank\">https://wandb.ai/thebiasbusters/ElectricConsumption/runs/63gxtxlt</a><br/>Synced 5 W&B file(s), 0 media file(s), 0 artifact file(s) and 0 other file(s)"
      ],
      "text/plain": [
       "<IPython.core.display.HTML object>"
      ]
     },
     "metadata": {},
     "output_type": "display_data"
    },
    {
     "data": {
      "text/html": [
       "Find logs at: <code>.\\wandb\\run-20231203_132957-63gxtxlt\\logs</code>"
      ],
      "text/plain": [
       "<IPython.core.display.HTML object>"
      ]
     },
     "metadata": {},
     "output_type": "display_data"
    },
    {
     "name": "stderr",
     "output_type": "stream",
     "text": [
      "\u001b[34m\u001b[1mwandb\u001b[0m: Agent Starting Run: y6ntconx with config:\n",
      "\u001b[34m\u001b[1mwandb\u001b[0m: \tlearning_rate: 0.1403055389258876\n",
      "\u001b[34m\u001b[1mwandb\u001b[0m: \tmax_depth: 7\n",
      "\u001b[34m\u001b[1mwandb\u001b[0m: \tn_estimators: 777\n",
      "\u001b[34m\u001b[1mwandb\u001b[0m: \tnum_leaves: 42\n",
      "\u001b[34m\u001b[1mwandb\u001b[0m: \treg_alpha: 81\n",
      "\u001b[34m\u001b[1mwandb\u001b[0m: \treg_lambda: 95\n",
      "\u001b[34m\u001b[1mwandb\u001b[0m: \tsubsample: 0.8\n"
     ]
    },
    {
     "data": {
      "text/html": [
       "Tracking run with wandb version 0.16.0"
      ],
      "text/plain": [
       "<IPython.core.display.HTML object>"
      ]
     },
     "metadata": {},
     "output_type": "display_data"
    },
    {
     "data": {
      "text/html": [
       "Run data is saved locally in <code>C:\\Users\\cemal\\Desktop\\Dersler\\Data Informatics\\DI502\\Github\\wandb\\run-20231203_133039-y6ntconx</code>"
      ],
      "text/plain": [
       "<IPython.core.display.HTML object>"
      ]
     },
     "metadata": {},
     "output_type": "display_data"
    },
    {
     "data": {
      "text/html": [
       "Syncing run <strong><a href='https://wandb.ai/thebiasbusters/ElectricConsumption/runs/y6ntconx' target=\"_blank\">rich-sweep-12</a></strong> to <a href='https://wandb.ai/thebiasbusters/ElectricConsumption' target=\"_blank\">Weights & Biases</a> (<a href='https://wandb.me/run' target=\"_blank\">docs</a>)<br/>Sweep page: <a href='https://wandb.ai/thebiasbusters/ElectricConsumption/sweeps/imyaimnq' target=\"_blank\">https://wandb.ai/thebiasbusters/ElectricConsumption/sweeps/imyaimnq</a>"
      ],
      "text/plain": [
       "<IPython.core.display.HTML object>"
      ]
     },
     "metadata": {},
     "output_type": "display_data"
    },
    {
     "data": {
      "text/html": [
       " View project at <a href='https://wandb.ai/thebiasbusters/ElectricConsumption' target=\"_blank\">https://wandb.ai/thebiasbusters/ElectricConsumption</a>"
      ],
      "text/plain": [
       "<IPython.core.display.HTML object>"
      ]
     },
     "metadata": {},
     "output_type": "display_data"
    },
    {
     "data": {
      "text/html": [
       " View sweep at <a href='https://wandb.ai/thebiasbusters/ElectricConsumption/sweeps/imyaimnq' target=\"_blank\">https://wandb.ai/thebiasbusters/ElectricConsumption/sweeps/imyaimnq</a>"
      ],
      "text/plain": [
       "<IPython.core.display.HTML object>"
      ]
     },
     "metadata": {},
     "output_type": "display_data"
    },
    {
     "data": {
      "text/html": [
       " View run at <a href='https://wandb.ai/thebiasbusters/ElectricConsumption/runs/y6ntconx' target=\"_blank\">https://wandb.ai/thebiasbusters/ElectricConsumption/runs/y6ntconx</a>"
      ],
      "text/plain": [
       "<IPython.core.display.HTML object>"
      ]
     },
     "metadata": {},
     "output_type": "display_data"
    },
    {
     "data": {
      "text/html": [
       "<style>\n",
       "    table.wandb td:nth-child(1) { padding: 0 10px; text-align: left ; width: auto;} td:nth-child(2) {text-align: left ; width: 100%}\n",
       "    .wandb-row { display: flex; flex-direction: row; flex-wrap: wrap; justify-content: flex-start; width: 100% }\n",
       "    .wandb-col { display: flex; flex-direction: column; flex-basis: 100%; flex: 1; padding: 10px; }\n",
       "    </style>\n",
       "<div class=\"wandb-row\"><div class=\"wandb-col\"><h3>Run history:</h3><br/><table class=\"wandb\"><tr><td>r2</td><td>▁</td></tr></table><br/></div><div class=\"wandb-col\"><h3>Run summary:</h3><br/><table class=\"wandb\"><tr><td>r2</td><td>0.93275</td></tr></table><br/></div></div>"
      ],
      "text/plain": [
       "<IPython.core.display.HTML object>"
      ]
     },
     "metadata": {},
     "output_type": "display_data"
    },
    {
     "data": {
      "text/html": [
       " View run <strong style=\"color:#cdcd00\">rich-sweep-12</strong> at: <a href='https://wandb.ai/thebiasbusters/ElectricConsumption/runs/y6ntconx' target=\"_blank\">https://wandb.ai/thebiasbusters/ElectricConsumption/runs/y6ntconx</a><br/>Synced 5 W&B file(s), 0 media file(s), 0 artifact file(s) and 0 other file(s)"
      ],
      "text/plain": [
       "<IPython.core.display.HTML object>"
      ]
     },
     "metadata": {},
     "output_type": "display_data"
    },
    {
     "data": {
      "text/html": [
       "Find logs at: <code>.\\wandb\\run-20231203_133039-y6ntconx\\logs</code>"
      ],
      "text/plain": [
       "<IPython.core.display.HTML object>"
      ]
     },
     "metadata": {},
     "output_type": "display_data"
    },
    {
     "name": "stderr",
     "output_type": "stream",
     "text": [
      "\u001b[34m\u001b[1mwandb\u001b[0m: Agent Starting Run: fyjyvoac with config:\n",
      "\u001b[34m\u001b[1mwandb\u001b[0m: \tlearning_rate: 0.1959467993677957\n",
      "\u001b[34m\u001b[1mwandb\u001b[0m: \tmax_depth: 7\n",
      "\u001b[34m\u001b[1mwandb\u001b[0m: \tn_estimators: 971\n",
      "\u001b[34m\u001b[1mwandb\u001b[0m: \tnum_leaves: 45\n",
      "\u001b[34m\u001b[1mwandb\u001b[0m: \treg_alpha: 54\n",
      "\u001b[34m\u001b[1mwandb\u001b[0m: \treg_lambda: 99\n",
      "\u001b[34m\u001b[1mwandb\u001b[0m: \tsubsample: 0.9\n"
     ]
    },
    {
     "data": {
      "text/html": [
       "Tracking run with wandb version 0.16.0"
      ],
      "text/plain": [
       "<IPython.core.display.HTML object>"
      ]
     },
     "metadata": {},
     "output_type": "display_data"
    },
    {
     "data": {
      "text/html": [
       "Run data is saved locally in <code>C:\\Users\\cemal\\Desktop\\Dersler\\Data Informatics\\DI502\\Github\\wandb\\run-20231203_133116-fyjyvoac</code>"
      ],
      "text/plain": [
       "<IPython.core.display.HTML object>"
      ]
     },
     "metadata": {},
     "output_type": "display_data"
    },
    {
     "data": {
      "text/html": [
       "Syncing run <strong><a href='https://wandb.ai/thebiasbusters/ElectricConsumption/runs/fyjyvoac' target=\"_blank\">deft-sweep-13</a></strong> to <a href='https://wandb.ai/thebiasbusters/ElectricConsumption' target=\"_blank\">Weights & Biases</a> (<a href='https://wandb.me/run' target=\"_blank\">docs</a>)<br/>Sweep page: <a href='https://wandb.ai/thebiasbusters/ElectricConsumption/sweeps/imyaimnq' target=\"_blank\">https://wandb.ai/thebiasbusters/ElectricConsumption/sweeps/imyaimnq</a>"
      ],
      "text/plain": [
       "<IPython.core.display.HTML object>"
      ]
     },
     "metadata": {},
     "output_type": "display_data"
    },
    {
     "data": {
      "text/html": [
       " View project at <a href='https://wandb.ai/thebiasbusters/ElectricConsumption' target=\"_blank\">https://wandb.ai/thebiasbusters/ElectricConsumption</a>"
      ],
      "text/plain": [
       "<IPython.core.display.HTML object>"
      ]
     },
     "metadata": {},
     "output_type": "display_data"
    },
    {
     "data": {
      "text/html": [
       " View sweep at <a href='https://wandb.ai/thebiasbusters/ElectricConsumption/sweeps/imyaimnq' target=\"_blank\">https://wandb.ai/thebiasbusters/ElectricConsumption/sweeps/imyaimnq</a>"
      ],
      "text/plain": [
       "<IPython.core.display.HTML object>"
      ]
     },
     "metadata": {},
     "output_type": "display_data"
    },
    {
     "data": {
      "text/html": [
       " View run at <a href='https://wandb.ai/thebiasbusters/ElectricConsumption/runs/fyjyvoac' target=\"_blank\">https://wandb.ai/thebiasbusters/ElectricConsumption/runs/fyjyvoac</a>"
      ],
      "text/plain": [
       "<IPython.core.display.HTML object>"
      ]
     },
     "metadata": {},
     "output_type": "display_data"
    },
    {
     "data": {
      "text/html": [
       "<style>\n",
       "    table.wandb td:nth-child(1) { padding: 0 10px; text-align: left ; width: auto;} td:nth-child(2) {text-align: left ; width: 100%}\n",
       "    .wandb-row { display: flex; flex-direction: row; flex-wrap: wrap; justify-content: flex-start; width: 100% }\n",
       "    .wandb-col { display: flex; flex-direction: column; flex-basis: 100%; flex: 1; padding: 10px; }\n",
       "    </style>\n",
       "<div class=\"wandb-row\"><div class=\"wandb-col\"><h3>Run history:</h3><br/><table class=\"wandb\"><tr><td>r2</td><td>▁</td></tr></table><br/></div><div class=\"wandb-col\"><h3>Run summary:</h3><br/><table class=\"wandb\"><tr><td>r2</td><td>0.91528</td></tr></table><br/></div></div>"
      ],
      "text/plain": [
       "<IPython.core.display.HTML object>"
      ]
     },
     "metadata": {},
     "output_type": "display_data"
    },
    {
     "data": {
      "text/html": [
       " View run <strong style=\"color:#cdcd00\">deft-sweep-13</strong> at: <a href='https://wandb.ai/thebiasbusters/ElectricConsumption/runs/fyjyvoac' target=\"_blank\">https://wandb.ai/thebiasbusters/ElectricConsumption/runs/fyjyvoac</a><br/>Synced 5 W&B file(s), 0 media file(s), 0 artifact file(s) and 0 other file(s)"
      ],
      "text/plain": [
       "<IPython.core.display.HTML object>"
      ]
     },
     "metadata": {},
     "output_type": "display_data"
    },
    {
     "data": {
      "text/html": [
       "Find logs at: <code>.\\wandb\\run-20231203_133116-fyjyvoac\\logs</code>"
      ],
      "text/plain": [
       "<IPython.core.display.HTML object>"
      ]
     },
     "metadata": {},
     "output_type": "display_data"
    },
    {
     "name": "stderr",
     "output_type": "stream",
     "text": [
      "\u001b[34m\u001b[1mwandb\u001b[0m: Sweep Agent: Waiting for job.\n",
      "\u001b[34m\u001b[1mwandb\u001b[0m: Job received.\n",
      "\u001b[34m\u001b[1mwandb\u001b[0m: Agent Starting Run: iwn1ihgh with config:\n",
      "\u001b[34m\u001b[1mwandb\u001b[0m: \tlearning_rate: 0.01303321548959269\n",
      "\u001b[34m\u001b[1mwandb\u001b[0m: \tmax_depth: 7\n",
      "\u001b[34m\u001b[1mwandb\u001b[0m: \tn_estimators: 926\n",
      "\u001b[34m\u001b[1mwandb\u001b[0m: \tnum_leaves: 50\n",
      "\u001b[34m\u001b[1mwandb\u001b[0m: \treg_alpha: 93\n",
      "\u001b[34m\u001b[1mwandb\u001b[0m: \treg_lambda: 68\n",
      "\u001b[34m\u001b[1mwandb\u001b[0m: \tsubsample: 0.8\n"
     ]
    },
    {
     "data": {
      "text/html": [
       "Tracking run with wandb version 0.16.0"
      ],
      "text/plain": [
       "<IPython.core.display.HTML object>"
      ]
     },
     "metadata": {},
     "output_type": "display_data"
    },
    {
     "data": {
      "text/html": [
       "Run data is saved locally in <code>C:\\Users\\cemal\\Desktop\\Dersler\\Data Informatics\\DI502\\Github\\wandb\\run-20231203_133159-iwn1ihgh</code>"
      ],
      "text/plain": [
       "<IPython.core.display.HTML object>"
      ]
     },
     "metadata": {},
     "output_type": "display_data"
    },
    {
     "data": {
      "text/html": [
       "Syncing run <strong><a href='https://wandb.ai/thebiasbusters/ElectricConsumption/runs/iwn1ihgh' target=\"_blank\">denim-sweep-14</a></strong> to <a href='https://wandb.ai/thebiasbusters/ElectricConsumption' target=\"_blank\">Weights & Biases</a> (<a href='https://wandb.me/run' target=\"_blank\">docs</a>)<br/>Sweep page: <a href='https://wandb.ai/thebiasbusters/ElectricConsumption/sweeps/imyaimnq' target=\"_blank\">https://wandb.ai/thebiasbusters/ElectricConsumption/sweeps/imyaimnq</a>"
      ],
      "text/plain": [
       "<IPython.core.display.HTML object>"
      ]
     },
     "metadata": {},
     "output_type": "display_data"
    },
    {
     "data": {
      "text/html": [
       " View project at <a href='https://wandb.ai/thebiasbusters/ElectricConsumption' target=\"_blank\">https://wandb.ai/thebiasbusters/ElectricConsumption</a>"
      ],
      "text/plain": [
       "<IPython.core.display.HTML object>"
      ]
     },
     "metadata": {},
     "output_type": "display_data"
    },
    {
     "data": {
      "text/html": [
       " View sweep at <a href='https://wandb.ai/thebiasbusters/ElectricConsumption/sweeps/imyaimnq' target=\"_blank\">https://wandb.ai/thebiasbusters/ElectricConsumption/sweeps/imyaimnq</a>"
      ],
      "text/plain": [
       "<IPython.core.display.HTML object>"
      ]
     },
     "metadata": {},
     "output_type": "display_data"
    },
    {
     "data": {
      "text/html": [
       " View run at <a href='https://wandb.ai/thebiasbusters/ElectricConsumption/runs/iwn1ihgh' target=\"_blank\">https://wandb.ai/thebiasbusters/ElectricConsumption/runs/iwn1ihgh</a>"
      ],
      "text/plain": [
       "<IPython.core.display.HTML object>"
      ]
     },
     "metadata": {},
     "output_type": "display_data"
    },
    {
     "data": {
      "text/html": [
       "<style>\n",
       "    table.wandb td:nth-child(1) { padding: 0 10px; text-align: left ; width: auto;} td:nth-child(2) {text-align: left ; width: 100%}\n",
       "    .wandb-row { display: flex; flex-direction: row; flex-wrap: wrap; justify-content: flex-start; width: 100% }\n",
       "    .wandb-col { display: flex; flex-direction: column; flex-basis: 100%; flex: 1; padding: 10px; }\n",
       "    </style>\n",
       "<div class=\"wandb-row\"><div class=\"wandb-col\"><h3>Run history:</h3><br/><table class=\"wandb\"><tr><td>r2</td><td>▁</td></tr></table><br/></div><div class=\"wandb-col\"><h3>Run summary:</h3><br/><table class=\"wandb\"><tr><td>r2</td><td>0.91136</td></tr></table><br/></div></div>"
      ],
      "text/plain": [
       "<IPython.core.display.HTML object>"
      ]
     },
     "metadata": {},
     "output_type": "display_data"
    },
    {
     "data": {
      "text/html": [
       " View run <strong style=\"color:#cdcd00\">denim-sweep-14</strong> at: <a href='https://wandb.ai/thebiasbusters/ElectricConsumption/runs/iwn1ihgh' target=\"_blank\">https://wandb.ai/thebiasbusters/ElectricConsumption/runs/iwn1ihgh</a><br/>Synced 5 W&B file(s), 0 media file(s), 0 artifact file(s) and 0 other file(s)"
      ],
      "text/plain": [
       "<IPython.core.display.HTML object>"
      ]
     },
     "metadata": {},
     "output_type": "display_data"
    },
    {
     "data": {
      "text/html": [
       "Find logs at: <code>.\\wandb\\run-20231203_133159-iwn1ihgh\\logs</code>"
      ],
      "text/plain": [
       "<IPython.core.display.HTML object>"
      ]
     },
     "metadata": {},
     "output_type": "display_data"
    },
    {
     "name": "stderr",
     "output_type": "stream",
     "text": [
      "\u001b[34m\u001b[1mwandb\u001b[0m: Agent Starting Run: afmfm211 with config:\n",
      "\u001b[34m\u001b[1mwandb\u001b[0m: \tlearning_rate: 0.14963502328824668\n",
      "\u001b[34m\u001b[1mwandb\u001b[0m: \tmax_depth: 7\n",
      "\u001b[34m\u001b[1mwandb\u001b[0m: \tn_estimators: 750\n",
      "\u001b[34m\u001b[1mwandb\u001b[0m: \tnum_leaves: 42\n",
      "\u001b[34m\u001b[1mwandb\u001b[0m: \treg_alpha: 71\n",
      "\u001b[34m\u001b[1mwandb\u001b[0m: \treg_lambda: 81\n",
      "\u001b[34m\u001b[1mwandb\u001b[0m: \tsubsample: 0.8\n"
     ]
    },
    {
     "data": {
      "text/html": [
       "Tracking run with wandb version 0.16.0"
      ],
      "text/plain": [
       "<IPython.core.display.HTML object>"
      ]
     },
     "metadata": {},
     "output_type": "display_data"
    },
    {
     "data": {
      "text/html": [
       "Run data is saved locally in <code>C:\\Users\\cemal\\Desktop\\Dersler\\Data Informatics\\DI502\\Github\\wandb\\run-20231203_133241-afmfm211</code>"
      ],
      "text/plain": [
       "<IPython.core.display.HTML object>"
      ]
     },
     "metadata": {},
     "output_type": "display_data"
    },
    {
     "data": {
      "text/html": [
       "Syncing run <strong><a href='https://wandb.ai/thebiasbusters/ElectricConsumption/runs/afmfm211' target=\"_blank\">swept-sweep-15</a></strong> to <a href='https://wandb.ai/thebiasbusters/ElectricConsumption' target=\"_blank\">Weights & Biases</a> (<a href='https://wandb.me/run' target=\"_blank\">docs</a>)<br/>Sweep page: <a href='https://wandb.ai/thebiasbusters/ElectricConsumption/sweeps/imyaimnq' target=\"_blank\">https://wandb.ai/thebiasbusters/ElectricConsumption/sweeps/imyaimnq</a>"
      ],
      "text/plain": [
       "<IPython.core.display.HTML object>"
      ]
     },
     "metadata": {},
     "output_type": "display_data"
    },
    {
     "data": {
      "text/html": [
       " View project at <a href='https://wandb.ai/thebiasbusters/ElectricConsumption' target=\"_blank\">https://wandb.ai/thebiasbusters/ElectricConsumption</a>"
      ],
      "text/plain": [
       "<IPython.core.display.HTML object>"
      ]
     },
     "metadata": {},
     "output_type": "display_data"
    },
    {
     "data": {
      "text/html": [
       " View sweep at <a href='https://wandb.ai/thebiasbusters/ElectricConsumption/sweeps/imyaimnq' target=\"_blank\">https://wandb.ai/thebiasbusters/ElectricConsumption/sweeps/imyaimnq</a>"
      ],
      "text/plain": [
       "<IPython.core.display.HTML object>"
      ]
     },
     "metadata": {},
     "output_type": "display_data"
    },
    {
     "data": {
      "text/html": [
       " View run at <a href='https://wandb.ai/thebiasbusters/ElectricConsumption/runs/afmfm211' target=\"_blank\">https://wandb.ai/thebiasbusters/ElectricConsumption/runs/afmfm211</a>"
      ],
      "text/plain": [
       "<IPython.core.display.HTML object>"
      ]
     },
     "metadata": {},
     "output_type": "display_data"
    },
    {
     "data": {
      "text/html": [
       "<style>\n",
       "    table.wandb td:nth-child(1) { padding: 0 10px; text-align: left ; width: auto;} td:nth-child(2) {text-align: left ; width: 100%}\n",
       "    .wandb-row { display: flex; flex-direction: row; flex-wrap: wrap; justify-content: flex-start; width: 100% }\n",
       "    .wandb-col { display: flex; flex-direction: column; flex-basis: 100%; flex: 1; padding: 10px; }\n",
       "    </style>\n",
       "<div class=\"wandb-row\"><div class=\"wandb-col\"><h3>Run history:</h3><br/><table class=\"wandb\"><tr><td>r2</td><td>▁</td></tr></table><br/></div><div class=\"wandb-col\"><h3>Run summary:</h3><br/><table class=\"wandb\"><tr><td>r2</td><td>0.90955</td></tr></table><br/></div></div>"
      ],
      "text/plain": [
       "<IPython.core.display.HTML object>"
      ]
     },
     "metadata": {},
     "output_type": "display_data"
    },
    {
     "data": {
      "text/html": [
       " View run <strong style=\"color:#cdcd00\">swept-sweep-15</strong> at: <a href='https://wandb.ai/thebiasbusters/ElectricConsumption/runs/afmfm211' target=\"_blank\">https://wandb.ai/thebiasbusters/ElectricConsumption/runs/afmfm211</a><br/>Synced 5 W&B file(s), 0 media file(s), 0 artifact file(s) and 0 other file(s)"
      ],
      "text/plain": [
       "<IPython.core.display.HTML object>"
      ]
     },
     "metadata": {},
     "output_type": "display_data"
    },
    {
     "data": {
      "text/html": [
       "Find logs at: <code>.\\wandb\\run-20231203_133241-afmfm211\\logs</code>"
      ],
      "text/plain": [
       "<IPython.core.display.HTML object>"
      ]
     },
     "metadata": {},
     "output_type": "display_data"
    },
    {
     "name": "stderr",
     "output_type": "stream",
     "text": [
      "\u001b[34m\u001b[1mwandb\u001b[0m: Agent Starting Run: pp16knhq with config:\n",
      "\u001b[34m\u001b[1mwandb\u001b[0m: \tlearning_rate: 0.010168836669947102\n",
      "\u001b[34m\u001b[1mwandb\u001b[0m: \tmax_depth: 6\n",
      "\u001b[34m\u001b[1mwandb\u001b[0m: \tn_estimators: 789\n",
      "\u001b[34m\u001b[1mwandb\u001b[0m: \tnum_leaves: 42\n",
      "\u001b[34m\u001b[1mwandb\u001b[0m: \treg_alpha: 25\n",
      "\u001b[34m\u001b[1mwandb\u001b[0m: \treg_lambda: 85\n",
      "\u001b[34m\u001b[1mwandb\u001b[0m: \tsubsample: 0.9\n"
     ]
    },
    {
     "data": {
      "text/html": [
       "Tracking run with wandb version 0.16.0"
      ],
      "text/plain": [
       "<IPython.core.display.HTML object>"
      ]
     },
     "metadata": {},
     "output_type": "display_data"
    },
    {
     "data": {
      "text/html": [
       "Run data is saved locally in <code>C:\\Users\\cemal\\Desktop\\Dersler\\Data Informatics\\DI502\\Github\\wandb\\run-20231203_133323-pp16knhq</code>"
      ],
      "text/plain": [
       "<IPython.core.display.HTML object>"
      ]
     },
     "metadata": {},
     "output_type": "display_data"
    },
    {
     "data": {
      "text/html": [
       "Syncing run <strong><a href='https://wandb.ai/thebiasbusters/ElectricConsumption/runs/pp16knhq' target=\"_blank\">clear-sweep-16</a></strong> to <a href='https://wandb.ai/thebiasbusters/ElectricConsumption' target=\"_blank\">Weights & Biases</a> (<a href='https://wandb.me/run' target=\"_blank\">docs</a>)<br/>Sweep page: <a href='https://wandb.ai/thebiasbusters/ElectricConsumption/sweeps/imyaimnq' target=\"_blank\">https://wandb.ai/thebiasbusters/ElectricConsumption/sweeps/imyaimnq</a>"
      ],
      "text/plain": [
       "<IPython.core.display.HTML object>"
      ]
     },
     "metadata": {},
     "output_type": "display_data"
    },
    {
     "data": {
      "text/html": [
       " View project at <a href='https://wandb.ai/thebiasbusters/ElectricConsumption' target=\"_blank\">https://wandb.ai/thebiasbusters/ElectricConsumption</a>"
      ],
      "text/plain": [
       "<IPython.core.display.HTML object>"
      ]
     },
     "metadata": {},
     "output_type": "display_data"
    },
    {
     "data": {
      "text/html": [
       " View sweep at <a href='https://wandb.ai/thebiasbusters/ElectricConsumption/sweeps/imyaimnq' target=\"_blank\">https://wandb.ai/thebiasbusters/ElectricConsumption/sweeps/imyaimnq</a>"
      ],
      "text/plain": [
       "<IPython.core.display.HTML object>"
      ]
     },
     "metadata": {},
     "output_type": "display_data"
    },
    {
     "data": {
      "text/html": [
       " View run at <a href='https://wandb.ai/thebiasbusters/ElectricConsumption/runs/pp16knhq' target=\"_blank\">https://wandb.ai/thebiasbusters/ElectricConsumption/runs/pp16knhq</a>"
      ],
      "text/plain": [
       "<IPython.core.display.HTML object>"
      ]
     },
     "metadata": {},
     "output_type": "display_data"
    },
    {
     "data": {
      "text/html": [
       "<style>\n",
       "    table.wandb td:nth-child(1) { padding: 0 10px; text-align: left ; width: auto;} td:nth-child(2) {text-align: left ; width: 100%}\n",
       "    .wandb-row { display: flex; flex-direction: row; flex-wrap: wrap; justify-content: flex-start; width: 100% }\n",
       "    .wandb-col { display: flex; flex-direction: column; flex-basis: 100%; flex: 1; padding: 10px; }\n",
       "    </style>\n",
       "<div class=\"wandb-row\"><div class=\"wandb-col\"><h3>Run history:</h3><br/><table class=\"wandb\"><tr><td>r2</td><td>▁</td></tr></table><br/></div><div class=\"wandb-col\"><h3>Run summary:</h3><br/><table class=\"wandb\"><tr><td>r2</td><td>0.93768</td></tr></table><br/></div></div>"
      ],
      "text/plain": [
       "<IPython.core.display.HTML object>"
      ]
     },
     "metadata": {},
     "output_type": "display_data"
    },
    {
     "data": {
      "text/html": [
       " View run <strong style=\"color:#cdcd00\">clear-sweep-16</strong> at: <a href='https://wandb.ai/thebiasbusters/ElectricConsumption/runs/pp16knhq' target=\"_blank\">https://wandb.ai/thebiasbusters/ElectricConsumption/runs/pp16knhq</a><br/>Synced 5 W&B file(s), 0 media file(s), 0 artifact file(s) and 0 other file(s)"
      ],
      "text/plain": [
       "<IPython.core.display.HTML object>"
      ]
     },
     "metadata": {},
     "output_type": "display_data"
    },
    {
     "data": {
      "text/html": [
       "Find logs at: <code>.\\wandb\\run-20231203_133323-pp16knhq\\logs</code>"
      ],
      "text/plain": [
       "<IPython.core.display.HTML object>"
      ]
     },
     "metadata": {},
     "output_type": "display_data"
    },
    {
     "name": "stderr",
     "output_type": "stream",
     "text": [
      "\u001b[34m\u001b[1mwandb\u001b[0m: Sweep Agent: Waiting for job.\n",
      "\u001b[34m\u001b[1mwandb\u001b[0m: Job received.\n",
      "\u001b[34m\u001b[1mwandb\u001b[0m: Agent Starting Run: ujfj3yqy with config:\n",
      "\u001b[34m\u001b[1mwandb\u001b[0m: \tlearning_rate: 0.1217468255861644\n",
      "\u001b[34m\u001b[1mwandb\u001b[0m: \tmax_depth: 4\n",
      "\u001b[34m\u001b[1mwandb\u001b[0m: \tn_estimators: 195\n",
      "\u001b[34m\u001b[1mwandb\u001b[0m: \tnum_leaves: 21\n",
      "\u001b[34m\u001b[1mwandb\u001b[0m: \treg_alpha: 65\n",
      "\u001b[34m\u001b[1mwandb\u001b[0m: \treg_lambda: 68\n",
      "\u001b[34m\u001b[1mwandb\u001b[0m: \tsubsample: 0.9\n"
     ]
    },
    {
     "data": {
      "text/html": [
       "Tracking run with wandb version 0.16.0"
      ],
      "text/plain": [
       "<IPython.core.display.HTML object>"
      ]
     },
     "metadata": {},
     "output_type": "display_data"
    },
    {
     "data": {
      "text/html": [
       "Run data is saved locally in <code>C:\\Users\\cemal\\Desktop\\Dersler\\Data Informatics\\DI502\\Github\\wandb\\run-20231203_133410-ujfj3yqy</code>"
      ],
      "text/plain": [
       "<IPython.core.display.HTML object>"
      ]
     },
     "metadata": {},
     "output_type": "display_data"
    },
    {
     "data": {
      "text/html": [
       "Syncing run <strong><a href='https://wandb.ai/thebiasbusters/ElectricConsumption/runs/ujfj3yqy' target=\"_blank\">fine-sweep-17</a></strong> to <a href='https://wandb.ai/thebiasbusters/ElectricConsumption' target=\"_blank\">Weights & Biases</a> (<a href='https://wandb.me/run' target=\"_blank\">docs</a>)<br/>Sweep page: <a href='https://wandb.ai/thebiasbusters/ElectricConsumption/sweeps/imyaimnq' target=\"_blank\">https://wandb.ai/thebiasbusters/ElectricConsumption/sweeps/imyaimnq</a>"
      ],
      "text/plain": [
       "<IPython.core.display.HTML object>"
      ]
     },
     "metadata": {},
     "output_type": "display_data"
    },
    {
     "data": {
      "text/html": [
       " View project at <a href='https://wandb.ai/thebiasbusters/ElectricConsumption' target=\"_blank\">https://wandb.ai/thebiasbusters/ElectricConsumption</a>"
      ],
      "text/plain": [
       "<IPython.core.display.HTML object>"
      ]
     },
     "metadata": {},
     "output_type": "display_data"
    },
    {
     "data": {
      "text/html": [
       " View sweep at <a href='https://wandb.ai/thebiasbusters/ElectricConsumption/sweeps/imyaimnq' target=\"_blank\">https://wandb.ai/thebiasbusters/ElectricConsumption/sweeps/imyaimnq</a>"
      ],
      "text/plain": [
       "<IPython.core.display.HTML object>"
      ]
     },
     "metadata": {},
     "output_type": "display_data"
    },
    {
     "data": {
      "text/html": [
       " View run at <a href='https://wandb.ai/thebiasbusters/ElectricConsumption/runs/ujfj3yqy' target=\"_blank\">https://wandb.ai/thebiasbusters/ElectricConsumption/runs/ujfj3yqy</a>"
      ],
      "text/plain": [
       "<IPython.core.display.HTML object>"
      ]
     },
     "metadata": {},
     "output_type": "display_data"
    },
    {
     "data": {
      "text/html": [
       "<style>\n",
       "    table.wandb td:nth-child(1) { padding: 0 10px; text-align: left ; width: auto;} td:nth-child(2) {text-align: left ; width: 100%}\n",
       "    .wandb-row { display: flex; flex-direction: row; flex-wrap: wrap; justify-content: flex-start; width: 100% }\n",
       "    .wandb-col { display: flex; flex-direction: column; flex-basis: 100%; flex: 1; padding: 10px; }\n",
       "    </style>\n",
       "<div class=\"wandb-row\"><div class=\"wandb-col\"><h3>Run history:</h3><br/><table class=\"wandb\"><tr><td>r2</td><td>▁</td></tr></table><br/></div><div class=\"wandb-col\"><h3>Run summary:</h3><br/><table class=\"wandb\"><tr><td>r2</td><td>0.93985</td></tr></table><br/></div></div>"
      ],
      "text/plain": [
       "<IPython.core.display.HTML object>"
      ]
     },
     "metadata": {},
     "output_type": "display_data"
    },
    {
     "data": {
      "text/html": [
       " View run <strong style=\"color:#cdcd00\">fine-sweep-17</strong> at: <a href='https://wandb.ai/thebiasbusters/ElectricConsumption/runs/ujfj3yqy' target=\"_blank\">https://wandb.ai/thebiasbusters/ElectricConsumption/runs/ujfj3yqy</a><br/>Synced 5 W&B file(s), 0 media file(s), 0 artifact file(s) and 0 other file(s)"
      ],
      "text/plain": [
       "<IPython.core.display.HTML object>"
      ]
     },
     "metadata": {},
     "output_type": "display_data"
    },
    {
     "data": {
      "text/html": [
       "Find logs at: <code>.\\wandb\\run-20231203_133410-ujfj3yqy\\logs</code>"
      ],
      "text/plain": [
       "<IPython.core.display.HTML object>"
      ]
     },
     "metadata": {},
     "output_type": "display_data"
    },
    {
     "name": "stderr",
     "output_type": "stream",
     "text": [
      "\u001b[34m\u001b[1mwandb\u001b[0m: Agent Starting Run: dv8rexfv with config:\n",
      "\u001b[34m\u001b[1mwandb\u001b[0m: \tlearning_rate: 0.1858881336543904\n",
      "\u001b[34m\u001b[1mwandb\u001b[0m: \tmax_depth: 6\n",
      "\u001b[34m\u001b[1mwandb\u001b[0m: \tn_estimators: 669\n",
      "\u001b[34m\u001b[1mwandb\u001b[0m: \tnum_leaves: 28\n",
      "\u001b[34m\u001b[1mwandb\u001b[0m: \treg_alpha: 57\n",
      "\u001b[34m\u001b[1mwandb\u001b[0m: \treg_lambda: 60\n",
      "\u001b[34m\u001b[1mwandb\u001b[0m: \tsubsample: 0.9\n"
     ]
    },
    {
     "data": {
      "text/html": [
       "Tracking run with wandb version 0.16.0"
      ],
      "text/plain": [
       "<IPython.core.display.HTML object>"
      ]
     },
     "metadata": {},
     "output_type": "display_data"
    },
    {
     "data": {
      "text/html": [
       "Run data is saved locally in <code>C:\\Users\\cemal\\Desktop\\Dersler\\Data Informatics\\DI502\\Github\\wandb\\run-20231203_133447-dv8rexfv</code>"
      ],
      "text/plain": [
       "<IPython.core.display.HTML object>"
      ]
     },
     "metadata": {},
     "output_type": "display_data"
    },
    {
     "data": {
      "text/html": [
       "Syncing run <strong><a href='https://wandb.ai/thebiasbusters/ElectricConsumption/runs/dv8rexfv' target=\"_blank\">icy-sweep-18</a></strong> to <a href='https://wandb.ai/thebiasbusters/ElectricConsumption' target=\"_blank\">Weights & Biases</a> (<a href='https://wandb.me/run' target=\"_blank\">docs</a>)<br/>Sweep page: <a href='https://wandb.ai/thebiasbusters/ElectricConsumption/sweeps/imyaimnq' target=\"_blank\">https://wandb.ai/thebiasbusters/ElectricConsumption/sweeps/imyaimnq</a>"
      ],
      "text/plain": [
       "<IPython.core.display.HTML object>"
      ]
     },
     "metadata": {},
     "output_type": "display_data"
    },
    {
     "data": {
      "text/html": [
       " View project at <a href='https://wandb.ai/thebiasbusters/ElectricConsumption' target=\"_blank\">https://wandb.ai/thebiasbusters/ElectricConsumption</a>"
      ],
      "text/plain": [
       "<IPython.core.display.HTML object>"
      ]
     },
     "metadata": {},
     "output_type": "display_data"
    },
    {
     "data": {
      "text/html": [
       " View sweep at <a href='https://wandb.ai/thebiasbusters/ElectricConsumption/sweeps/imyaimnq' target=\"_blank\">https://wandb.ai/thebiasbusters/ElectricConsumption/sweeps/imyaimnq</a>"
      ],
      "text/plain": [
       "<IPython.core.display.HTML object>"
      ]
     },
     "metadata": {},
     "output_type": "display_data"
    },
    {
     "data": {
      "text/html": [
       " View run at <a href='https://wandb.ai/thebiasbusters/ElectricConsumption/runs/dv8rexfv' target=\"_blank\">https://wandb.ai/thebiasbusters/ElectricConsumption/runs/dv8rexfv</a>"
      ],
      "text/plain": [
       "<IPython.core.display.HTML object>"
      ]
     },
     "metadata": {},
     "output_type": "display_data"
    },
    {
     "data": {
      "text/html": [
       "<style>\n",
       "    table.wandb td:nth-child(1) { padding: 0 10px; text-align: left ; width: auto;} td:nth-child(2) {text-align: left ; width: 100%}\n",
       "    .wandb-row { display: flex; flex-direction: row; flex-wrap: wrap; justify-content: flex-start; width: 100% }\n",
       "    .wandb-col { display: flex; flex-direction: column; flex-basis: 100%; flex: 1; padding: 10px; }\n",
       "    </style>\n",
       "<div class=\"wandb-row\"><div class=\"wandb-col\"><h3>Run history:</h3><br/><table class=\"wandb\"><tr><td>r2</td><td>▁</td></tr></table><br/></div><div class=\"wandb-col\"><h3>Run summary:</h3><br/><table class=\"wandb\"><tr><td>r2</td><td>0.91879</td></tr></table><br/></div></div>"
      ],
      "text/plain": [
       "<IPython.core.display.HTML object>"
      ]
     },
     "metadata": {},
     "output_type": "display_data"
    },
    {
     "data": {
      "text/html": [
       " View run <strong style=\"color:#cdcd00\">icy-sweep-18</strong> at: <a href='https://wandb.ai/thebiasbusters/ElectricConsumption/runs/dv8rexfv' target=\"_blank\">https://wandb.ai/thebiasbusters/ElectricConsumption/runs/dv8rexfv</a><br/>Synced 5 W&B file(s), 0 media file(s), 0 artifact file(s) and 0 other file(s)"
      ],
      "text/plain": [
       "<IPython.core.display.HTML object>"
      ]
     },
     "metadata": {},
     "output_type": "display_data"
    },
    {
     "data": {
      "text/html": [
       "Find logs at: <code>.\\wandb\\run-20231203_133447-dv8rexfv\\logs</code>"
      ],
      "text/plain": [
       "<IPython.core.display.HTML object>"
      ]
     },
     "metadata": {},
     "output_type": "display_data"
    },
    {
     "name": "stderr",
     "output_type": "stream",
     "text": [
      "\u001b[34m\u001b[1mwandb\u001b[0m: Agent Starting Run: pdomdm7g with config:\n",
      "\u001b[34m\u001b[1mwandb\u001b[0m: \tlearning_rate: 0.02270042986541898\n",
      "\u001b[34m\u001b[1mwandb\u001b[0m: \tmax_depth: 5\n",
      "\u001b[34m\u001b[1mwandb\u001b[0m: \tn_estimators: 194\n",
      "\u001b[34m\u001b[1mwandb\u001b[0m: \tnum_leaves: 40\n",
      "\u001b[34m\u001b[1mwandb\u001b[0m: \treg_alpha: 25\n",
      "\u001b[34m\u001b[1mwandb\u001b[0m: \treg_lambda: 32\n",
      "\u001b[34m\u001b[1mwandb\u001b[0m: \tsubsample: 0.9\n"
     ]
    },
    {
     "data": {
      "text/html": [
       "Tracking run with wandb version 0.16.0"
      ],
      "text/plain": [
       "<IPython.core.display.HTML object>"
      ]
     },
     "metadata": {},
     "output_type": "display_data"
    },
    {
     "data": {
      "text/html": [
       "Run data is saved locally in <code>C:\\Users\\cemal\\Desktop\\Dersler\\Data Informatics\\DI502\\Github\\wandb\\run-20231203_133527-pdomdm7g</code>"
      ],
      "text/plain": [
       "<IPython.core.display.HTML object>"
      ]
     },
     "metadata": {},
     "output_type": "display_data"
    },
    {
     "data": {
      "text/html": [
       "Syncing run <strong><a href='https://wandb.ai/thebiasbusters/ElectricConsumption/runs/pdomdm7g' target=\"_blank\">charmed-sweep-19</a></strong> to <a href='https://wandb.ai/thebiasbusters/ElectricConsumption' target=\"_blank\">Weights & Biases</a> (<a href='https://wandb.me/run' target=\"_blank\">docs</a>)<br/>Sweep page: <a href='https://wandb.ai/thebiasbusters/ElectricConsumption/sweeps/imyaimnq' target=\"_blank\">https://wandb.ai/thebiasbusters/ElectricConsumption/sweeps/imyaimnq</a>"
      ],
      "text/plain": [
       "<IPython.core.display.HTML object>"
      ]
     },
     "metadata": {},
     "output_type": "display_data"
    },
    {
     "data": {
      "text/html": [
       " View project at <a href='https://wandb.ai/thebiasbusters/ElectricConsumption' target=\"_blank\">https://wandb.ai/thebiasbusters/ElectricConsumption</a>"
      ],
      "text/plain": [
       "<IPython.core.display.HTML object>"
      ]
     },
     "metadata": {},
     "output_type": "display_data"
    },
    {
     "data": {
      "text/html": [
       " View sweep at <a href='https://wandb.ai/thebiasbusters/ElectricConsumption/sweeps/imyaimnq' target=\"_blank\">https://wandb.ai/thebiasbusters/ElectricConsumption/sweeps/imyaimnq</a>"
      ],
      "text/plain": [
       "<IPython.core.display.HTML object>"
      ]
     },
     "metadata": {},
     "output_type": "display_data"
    },
    {
     "data": {
      "text/html": [
       " View run at <a href='https://wandb.ai/thebiasbusters/ElectricConsumption/runs/pdomdm7g' target=\"_blank\">https://wandb.ai/thebiasbusters/ElectricConsumption/runs/pdomdm7g</a>"
      ],
      "text/plain": [
       "<IPython.core.display.HTML object>"
      ]
     },
     "metadata": {},
     "output_type": "display_data"
    },
    {
     "data": {
      "text/html": [
       "<style>\n",
       "    table.wandb td:nth-child(1) { padding: 0 10px; text-align: left ; width: auto;} td:nth-child(2) {text-align: left ; width: 100%}\n",
       "    .wandb-row { display: flex; flex-direction: row; flex-wrap: wrap; justify-content: flex-start; width: 100% }\n",
       "    .wandb-col { display: flex; flex-direction: column; flex-basis: 100%; flex: 1; padding: 10px; }\n",
       "    </style>\n",
       "<div class=\"wandb-row\"><div class=\"wandb-col\"><h3>Run history:</h3><br/><table class=\"wandb\"><tr><td>r2</td><td>▁</td></tr></table><br/></div><div class=\"wandb-col\"><h3>Run summary:</h3><br/><table class=\"wandb\"><tr><td>r2</td><td>0.93589</td></tr></table><br/></div></div>"
      ],
      "text/plain": [
       "<IPython.core.display.HTML object>"
      ]
     },
     "metadata": {},
     "output_type": "display_data"
    },
    {
     "data": {
      "text/html": [
       " View run <strong style=\"color:#cdcd00\">charmed-sweep-19</strong> at: <a href='https://wandb.ai/thebiasbusters/ElectricConsumption/runs/pdomdm7g' target=\"_blank\">https://wandb.ai/thebiasbusters/ElectricConsumption/runs/pdomdm7g</a><br/>Synced 5 W&B file(s), 0 media file(s), 0 artifact file(s) and 0 other file(s)"
      ],
      "text/plain": [
       "<IPython.core.display.HTML object>"
      ]
     },
     "metadata": {},
     "output_type": "display_data"
    },
    {
     "data": {
      "text/html": [
       "Find logs at: <code>.\\wandb\\run-20231203_133527-pdomdm7g\\logs</code>"
      ],
      "text/plain": [
       "<IPython.core.display.HTML object>"
      ]
     },
     "metadata": {},
     "output_type": "display_data"
    },
    {
     "name": "stderr",
     "output_type": "stream",
     "text": [
      "\u001b[34m\u001b[1mwandb\u001b[0m: Agent Starting Run: 0a1j1kvc with config:\n",
      "\u001b[34m\u001b[1mwandb\u001b[0m: \tlearning_rate: 0.013279880621739532\n",
      "\u001b[34m\u001b[1mwandb\u001b[0m: \tmax_depth: 6\n",
      "\u001b[34m\u001b[1mwandb\u001b[0m: \tn_estimators: 244\n",
      "\u001b[34m\u001b[1mwandb\u001b[0m: \tnum_leaves: 22\n",
      "\u001b[34m\u001b[1mwandb\u001b[0m: \treg_alpha: 51\n",
      "\u001b[34m\u001b[1mwandb\u001b[0m: \treg_lambda: 5\n",
      "\u001b[34m\u001b[1mwandb\u001b[0m: \tsubsample: 1\n"
     ]
    },
    {
     "data": {
      "text/html": [
       "Tracking run with wandb version 0.16.0"
      ],
      "text/plain": [
       "<IPython.core.display.HTML object>"
      ]
     },
     "metadata": {},
     "output_type": "display_data"
    },
    {
     "data": {
      "text/html": [
       "Run data is saved locally in <code>C:\\Users\\cemal\\Desktop\\Dersler\\Data Informatics\\DI502\\Github\\wandb\\run-20231203_133607-0a1j1kvc</code>"
      ],
      "text/plain": [
       "<IPython.core.display.HTML object>"
      ]
     },
     "metadata": {},
     "output_type": "display_data"
    },
    {
     "data": {
      "text/html": [
       "Syncing run <strong><a href='https://wandb.ai/thebiasbusters/ElectricConsumption/runs/0a1j1kvc' target=\"_blank\">frosty-sweep-20</a></strong> to <a href='https://wandb.ai/thebiasbusters/ElectricConsumption' target=\"_blank\">Weights & Biases</a> (<a href='https://wandb.me/run' target=\"_blank\">docs</a>)<br/>Sweep page: <a href='https://wandb.ai/thebiasbusters/ElectricConsumption/sweeps/imyaimnq' target=\"_blank\">https://wandb.ai/thebiasbusters/ElectricConsumption/sweeps/imyaimnq</a>"
      ],
      "text/plain": [
       "<IPython.core.display.HTML object>"
      ]
     },
     "metadata": {},
     "output_type": "display_data"
    },
    {
     "data": {
      "text/html": [
       " View project at <a href='https://wandb.ai/thebiasbusters/ElectricConsumption' target=\"_blank\">https://wandb.ai/thebiasbusters/ElectricConsumption</a>"
      ],
      "text/plain": [
       "<IPython.core.display.HTML object>"
      ]
     },
     "metadata": {},
     "output_type": "display_data"
    },
    {
     "data": {
      "text/html": [
       " View sweep at <a href='https://wandb.ai/thebiasbusters/ElectricConsumption/sweeps/imyaimnq' target=\"_blank\">https://wandb.ai/thebiasbusters/ElectricConsumption/sweeps/imyaimnq</a>"
      ],
      "text/plain": [
       "<IPython.core.display.HTML object>"
      ]
     },
     "metadata": {},
     "output_type": "display_data"
    },
    {
     "data": {
      "text/html": [
       " View run at <a href='https://wandb.ai/thebiasbusters/ElectricConsumption/runs/0a1j1kvc' target=\"_blank\">https://wandb.ai/thebiasbusters/ElectricConsumption/runs/0a1j1kvc</a>"
      ],
      "text/plain": [
       "<IPython.core.display.HTML object>"
      ]
     },
     "metadata": {},
     "output_type": "display_data"
    },
    {
     "data": {
      "text/html": [
       "<style>\n",
       "    table.wandb td:nth-child(1) { padding: 0 10px; text-align: left ; width: auto;} td:nth-child(2) {text-align: left ; width: 100%}\n",
       "    .wandb-row { display: flex; flex-direction: row; flex-wrap: wrap; justify-content: flex-start; width: 100% }\n",
       "    .wandb-col { display: flex; flex-direction: column; flex-basis: 100%; flex: 1; padding: 10px; }\n",
       "    </style>\n",
       "<div class=\"wandb-row\"><div class=\"wandb-col\"><h3>Run history:</h3><br/><table class=\"wandb\"><tr><td>r2</td><td>▁</td></tr></table><br/></div><div class=\"wandb-col\"><h3>Run summary:</h3><br/><table class=\"wandb\"><tr><td>r2</td><td>0.89597</td></tr></table><br/></div></div>"
      ],
      "text/plain": [
       "<IPython.core.display.HTML object>"
      ]
     },
     "metadata": {},
     "output_type": "display_data"
    },
    {
     "data": {
      "text/html": [
       " View run <strong style=\"color:#cdcd00\">frosty-sweep-20</strong> at: <a href='https://wandb.ai/thebiasbusters/ElectricConsumption/runs/0a1j1kvc' target=\"_blank\">https://wandb.ai/thebiasbusters/ElectricConsumption/runs/0a1j1kvc</a><br/>Synced 5 W&B file(s), 0 media file(s), 0 artifact file(s) and 0 other file(s)"
      ],
      "text/plain": [
       "<IPython.core.display.HTML object>"
      ]
     },
     "metadata": {},
     "output_type": "display_data"
    },
    {
     "data": {
      "text/html": [
       "Find logs at: <code>.\\wandb\\run-20231203_133607-0a1j1kvc\\logs</code>"
      ],
      "text/plain": [
       "<IPython.core.display.HTML object>"
      ]
     },
     "metadata": {},
     "output_type": "display_data"
    },
    {
     "name": "stderr",
     "output_type": "stream",
     "text": [
      "\u001b[34m\u001b[1mwandb\u001b[0m: Agent Starting Run: 4gxl1js9 with config:\n",
      "\u001b[34m\u001b[1mwandb\u001b[0m: \tlearning_rate: 0.06533767263228625\n",
      "\u001b[34m\u001b[1mwandb\u001b[0m: \tmax_depth: 6\n",
      "\u001b[34m\u001b[1mwandb\u001b[0m: \tn_estimators: 674\n",
      "\u001b[34m\u001b[1mwandb\u001b[0m: \tnum_leaves: 26\n",
      "\u001b[34m\u001b[1mwandb\u001b[0m: \treg_alpha: 72\n",
      "\u001b[34m\u001b[1mwandb\u001b[0m: \treg_lambda: 53\n",
      "\u001b[34m\u001b[1mwandb\u001b[0m: \tsubsample: 0.9\n"
     ]
    },
    {
     "data": {
      "text/html": [
       "Tracking run with wandb version 0.16.0"
      ],
      "text/plain": [
       "<IPython.core.display.HTML object>"
      ]
     },
     "metadata": {},
     "output_type": "display_data"
    },
    {
     "data": {
      "text/html": [
       "Run data is saved locally in <code>C:\\Users\\cemal\\Desktop\\Dersler\\Data Informatics\\DI502\\Github\\wandb\\run-20231203_133644-4gxl1js9</code>"
      ],
      "text/plain": [
       "<IPython.core.display.HTML object>"
      ]
     },
     "metadata": {},
     "output_type": "display_data"
    },
    {
     "data": {
      "text/html": [
       "Syncing run <strong><a href='https://wandb.ai/thebiasbusters/ElectricConsumption/runs/4gxl1js9' target=\"_blank\">classic-sweep-21</a></strong> to <a href='https://wandb.ai/thebiasbusters/ElectricConsumption' target=\"_blank\">Weights & Biases</a> (<a href='https://wandb.me/run' target=\"_blank\">docs</a>)<br/>Sweep page: <a href='https://wandb.ai/thebiasbusters/ElectricConsumption/sweeps/imyaimnq' target=\"_blank\">https://wandb.ai/thebiasbusters/ElectricConsumption/sweeps/imyaimnq</a>"
      ],
      "text/plain": [
       "<IPython.core.display.HTML object>"
      ]
     },
     "metadata": {},
     "output_type": "display_data"
    },
    {
     "data": {
      "text/html": [
       " View project at <a href='https://wandb.ai/thebiasbusters/ElectricConsumption' target=\"_blank\">https://wandb.ai/thebiasbusters/ElectricConsumption</a>"
      ],
      "text/plain": [
       "<IPython.core.display.HTML object>"
      ]
     },
     "metadata": {},
     "output_type": "display_data"
    },
    {
     "data": {
      "text/html": [
       " View sweep at <a href='https://wandb.ai/thebiasbusters/ElectricConsumption/sweeps/imyaimnq' target=\"_blank\">https://wandb.ai/thebiasbusters/ElectricConsumption/sweeps/imyaimnq</a>"
      ],
      "text/plain": [
       "<IPython.core.display.HTML object>"
      ]
     },
     "metadata": {},
     "output_type": "display_data"
    },
    {
     "data": {
      "text/html": [
       " View run at <a href='https://wandb.ai/thebiasbusters/ElectricConsumption/runs/4gxl1js9' target=\"_blank\">https://wandb.ai/thebiasbusters/ElectricConsumption/runs/4gxl1js9</a>"
      ],
      "text/plain": [
       "<IPython.core.display.HTML object>"
      ]
     },
     "metadata": {},
     "output_type": "display_data"
    },
    {
     "data": {
      "text/html": [
       "<style>\n",
       "    table.wandb td:nth-child(1) { padding: 0 10px; text-align: left ; width: auto;} td:nth-child(2) {text-align: left ; width: 100%}\n",
       "    .wandb-row { display: flex; flex-direction: row; flex-wrap: wrap; justify-content: flex-start; width: 100% }\n",
       "    .wandb-col { display: flex; flex-direction: column; flex-basis: 100%; flex: 1; padding: 10px; }\n",
       "    </style>\n",
       "<div class=\"wandb-row\"><div class=\"wandb-col\"><h3>Run history:</h3><br/><table class=\"wandb\"><tr><td>r2</td><td>▁</td></tr></table><br/></div><div class=\"wandb-col\"><h3>Run summary:</h3><br/><table class=\"wandb\"><tr><td>r2</td><td>0.93035</td></tr></table><br/></div></div>"
      ],
      "text/plain": [
       "<IPython.core.display.HTML object>"
      ]
     },
     "metadata": {},
     "output_type": "display_data"
    },
    {
     "data": {
      "text/html": [
       " View run <strong style=\"color:#cdcd00\">classic-sweep-21</strong> at: <a href='https://wandb.ai/thebiasbusters/ElectricConsumption/runs/4gxl1js9' target=\"_blank\">https://wandb.ai/thebiasbusters/ElectricConsumption/runs/4gxl1js9</a><br/>Synced 5 W&B file(s), 0 media file(s), 0 artifact file(s) and 0 other file(s)"
      ],
      "text/plain": [
       "<IPython.core.display.HTML object>"
      ]
     },
     "metadata": {},
     "output_type": "display_data"
    },
    {
     "data": {
      "text/html": [
       "Find logs at: <code>.\\wandb\\run-20231203_133644-4gxl1js9\\logs</code>"
      ],
      "text/plain": [
       "<IPython.core.display.HTML object>"
      ]
     },
     "metadata": {},
     "output_type": "display_data"
    },
    {
     "name": "stderr",
     "output_type": "stream",
     "text": [
      "\u001b[34m\u001b[1mwandb\u001b[0m: Agent Starting Run: 2lk7cqes with config:\n",
      "\u001b[34m\u001b[1mwandb\u001b[0m: \tlearning_rate: 0.023243798290626515\n",
      "\u001b[34m\u001b[1mwandb\u001b[0m: \tmax_depth: 5\n",
      "\u001b[34m\u001b[1mwandb\u001b[0m: \tn_estimators: 799\n",
      "\u001b[34m\u001b[1mwandb\u001b[0m: \tnum_leaves: 25\n",
      "\u001b[34m\u001b[1mwandb\u001b[0m: \treg_alpha: 14\n",
      "\u001b[34m\u001b[1mwandb\u001b[0m: \treg_lambda: 51\n",
      "\u001b[34m\u001b[1mwandb\u001b[0m: \tsubsample: 1\n"
     ]
    },
    {
     "data": {
      "text/html": [
       "Tracking run with wandb version 0.16.0"
      ],
      "text/plain": [
       "<IPython.core.display.HTML object>"
      ]
     },
     "metadata": {},
     "output_type": "display_data"
    },
    {
     "data": {
      "text/html": [
       "Run data is saved locally in <code>C:\\Users\\cemal\\Desktop\\Dersler\\Data Informatics\\DI502\\Github\\wandb\\run-20231203_133721-2lk7cqes</code>"
      ],
      "text/plain": [
       "<IPython.core.display.HTML object>"
      ]
     },
     "metadata": {},
     "output_type": "display_data"
    },
    {
     "data": {
      "text/html": [
       "Syncing run <strong><a href='https://wandb.ai/thebiasbusters/ElectricConsumption/runs/2lk7cqes' target=\"_blank\">stellar-sweep-22</a></strong> to <a href='https://wandb.ai/thebiasbusters/ElectricConsumption' target=\"_blank\">Weights & Biases</a> (<a href='https://wandb.me/run' target=\"_blank\">docs</a>)<br/>Sweep page: <a href='https://wandb.ai/thebiasbusters/ElectricConsumption/sweeps/imyaimnq' target=\"_blank\">https://wandb.ai/thebiasbusters/ElectricConsumption/sweeps/imyaimnq</a>"
      ],
      "text/plain": [
       "<IPython.core.display.HTML object>"
      ]
     },
     "metadata": {},
     "output_type": "display_data"
    },
    {
     "data": {
      "text/html": [
       " View project at <a href='https://wandb.ai/thebiasbusters/ElectricConsumption' target=\"_blank\">https://wandb.ai/thebiasbusters/ElectricConsumption</a>"
      ],
      "text/plain": [
       "<IPython.core.display.HTML object>"
      ]
     },
     "metadata": {},
     "output_type": "display_data"
    },
    {
     "data": {
      "text/html": [
       " View sweep at <a href='https://wandb.ai/thebiasbusters/ElectricConsumption/sweeps/imyaimnq' target=\"_blank\">https://wandb.ai/thebiasbusters/ElectricConsumption/sweeps/imyaimnq</a>"
      ],
      "text/plain": [
       "<IPython.core.display.HTML object>"
      ]
     },
     "metadata": {},
     "output_type": "display_data"
    },
    {
     "data": {
      "text/html": [
       " View run at <a href='https://wandb.ai/thebiasbusters/ElectricConsumption/runs/2lk7cqes' target=\"_blank\">https://wandb.ai/thebiasbusters/ElectricConsumption/runs/2lk7cqes</a>"
      ],
      "text/plain": [
       "<IPython.core.display.HTML object>"
      ]
     },
     "metadata": {},
     "output_type": "display_data"
    },
    {
     "data": {
      "text/html": [
       "<style>\n",
       "    table.wandb td:nth-child(1) { padding: 0 10px; text-align: left ; width: auto;} td:nth-child(2) {text-align: left ; width: 100%}\n",
       "    .wandb-row { display: flex; flex-direction: row; flex-wrap: wrap; justify-content: flex-start; width: 100% }\n",
       "    .wandb-col { display: flex; flex-direction: column; flex-basis: 100%; flex: 1; padding: 10px; }\n",
       "    </style>\n",
       "<div class=\"wandb-row\"><div class=\"wandb-col\"><h3>Run history:</h3><br/><table class=\"wandb\"><tr><td>r2</td><td>▁</td></tr></table><br/></div><div class=\"wandb-col\"><h3>Run summary:</h3><br/><table class=\"wandb\"><tr><td>r2</td><td>0.90514</td></tr></table><br/></div></div>"
      ],
      "text/plain": [
       "<IPython.core.display.HTML object>"
      ]
     },
     "metadata": {},
     "output_type": "display_data"
    },
    {
     "data": {
      "text/html": [
       " View run <strong style=\"color:#cdcd00\">stellar-sweep-22</strong> at: <a href='https://wandb.ai/thebiasbusters/ElectricConsumption/runs/2lk7cqes' target=\"_blank\">https://wandb.ai/thebiasbusters/ElectricConsumption/runs/2lk7cqes</a><br/>Synced 5 W&B file(s), 0 media file(s), 0 artifact file(s) and 0 other file(s)"
      ],
      "text/plain": [
       "<IPython.core.display.HTML object>"
      ]
     },
     "metadata": {},
     "output_type": "display_data"
    },
    {
     "data": {
      "text/html": [
       "Find logs at: <code>.\\wandb\\run-20231203_133721-2lk7cqes\\logs</code>"
      ],
      "text/plain": [
       "<IPython.core.display.HTML object>"
      ]
     },
     "metadata": {},
     "output_type": "display_data"
    },
    {
     "name": "stderr",
     "output_type": "stream",
     "text": [
      "\u001b[34m\u001b[1mwandb\u001b[0m: Agent Starting Run: uucdg8hm with config:\n",
      "\u001b[34m\u001b[1mwandb\u001b[0m: \tlearning_rate: 0.047613852254222\n",
      "\u001b[34m\u001b[1mwandb\u001b[0m: \tmax_depth: 7\n",
      "\u001b[34m\u001b[1mwandb\u001b[0m: \tn_estimators: 305\n",
      "\u001b[34m\u001b[1mwandb\u001b[0m: \tnum_leaves: 28\n",
      "\u001b[34m\u001b[1mwandb\u001b[0m: \treg_alpha: 78\n",
      "\u001b[34m\u001b[1mwandb\u001b[0m: \treg_lambda: 85\n",
      "\u001b[34m\u001b[1mwandb\u001b[0m: \tsubsample: 0.8\n"
     ]
    },
    {
     "data": {
      "text/html": [
       "Tracking run with wandb version 0.16.0"
      ],
      "text/plain": [
       "<IPython.core.display.HTML object>"
      ]
     },
     "metadata": {},
     "output_type": "display_data"
    },
    {
     "data": {
      "text/html": [
       "Run data is saved locally in <code>C:\\Users\\cemal\\Desktop\\Dersler\\Data Informatics\\DI502\\Github\\wandb\\run-20231203_133758-uucdg8hm</code>"
      ],
      "text/plain": [
       "<IPython.core.display.HTML object>"
      ]
     },
     "metadata": {},
     "output_type": "display_data"
    },
    {
     "data": {
      "text/html": [
       "Syncing run <strong><a href='https://wandb.ai/thebiasbusters/ElectricConsumption/runs/uucdg8hm' target=\"_blank\">amber-sweep-23</a></strong> to <a href='https://wandb.ai/thebiasbusters/ElectricConsumption' target=\"_blank\">Weights & Biases</a> (<a href='https://wandb.me/run' target=\"_blank\">docs</a>)<br/>Sweep page: <a href='https://wandb.ai/thebiasbusters/ElectricConsumption/sweeps/imyaimnq' target=\"_blank\">https://wandb.ai/thebiasbusters/ElectricConsumption/sweeps/imyaimnq</a>"
      ],
      "text/plain": [
       "<IPython.core.display.HTML object>"
      ]
     },
     "metadata": {},
     "output_type": "display_data"
    },
    {
     "data": {
      "text/html": [
       " View project at <a href='https://wandb.ai/thebiasbusters/ElectricConsumption' target=\"_blank\">https://wandb.ai/thebiasbusters/ElectricConsumption</a>"
      ],
      "text/plain": [
       "<IPython.core.display.HTML object>"
      ]
     },
     "metadata": {},
     "output_type": "display_data"
    },
    {
     "data": {
      "text/html": [
       " View sweep at <a href='https://wandb.ai/thebiasbusters/ElectricConsumption/sweeps/imyaimnq' target=\"_blank\">https://wandb.ai/thebiasbusters/ElectricConsumption/sweeps/imyaimnq</a>"
      ],
      "text/plain": [
       "<IPython.core.display.HTML object>"
      ]
     },
     "metadata": {},
     "output_type": "display_data"
    },
    {
     "data": {
      "text/html": [
       " View run at <a href='https://wandb.ai/thebiasbusters/ElectricConsumption/runs/uucdg8hm' target=\"_blank\">https://wandb.ai/thebiasbusters/ElectricConsumption/runs/uucdg8hm</a>"
      ],
      "text/plain": [
       "<IPython.core.display.HTML object>"
      ]
     },
     "metadata": {},
     "output_type": "display_data"
    },
    {
     "data": {
      "text/html": [
       "<style>\n",
       "    table.wandb td:nth-child(1) { padding: 0 10px; text-align: left ; width: auto;} td:nth-child(2) {text-align: left ; width: 100%}\n",
       "    .wandb-row { display: flex; flex-direction: row; flex-wrap: wrap; justify-content: flex-start; width: 100% }\n",
       "    .wandb-col { display: flex; flex-direction: column; flex-basis: 100%; flex: 1; padding: 10px; }\n",
       "    </style>\n",
       "<div class=\"wandb-row\"><div class=\"wandb-col\"><h3>Run history:</h3><br/><table class=\"wandb\"><tr><td>r2</td><td>▁</td></tr></table><br/></div><div class=\"wandb-col\"><h3>Run summary:</h3><br/><table class=\"wandb\"><tr><td>r2</td><td>0.92491</td></tr></table><br/></div></div>"
      ],
      "text/plain": [
       "<IPython.core.display.HTML object>"
      ]
     },
     "metadata": {},
     "output_type": "display_data"
    },
    {
     "data": {
      "text/html": [
       " View run <strong style=\"color:#cdcd00\">amber-sweep-23</strong> at: <a href='https://wandb.ai/thebiasbusters/ElectricConsumption/runs/uucdg8hm' target=\"_blank\">https://wandb.ai/thebiasbusters/ElectricConsumption/runs/uucdg8hm</a><br/>Synced 5 W&B file(s), 0 media file(s), 0 artifact file(s) and 0 other file(s)"
      ],
      "text/plain": [
       "<IPython.core.display.HTML object>"
      ]
     },
     "metadata": {},
     "output_type": "display_data"
    },
    {
     "data": {
      "text/html": [
       "Find logs at: <code>.\\wandb\\run-20231203_133758-uucdg8hm\\logs</code>"
      ],
      "text/plain": [
       "<IPython.core.display.HTML object>"
      ]
     },
     "metadata": {},
     "output_type": "display_data"
    },
    {
     "name": "stderr",
     "output_type": "stream",
     "text": [
      "\u001b[34m\u001b[1mwandb\u001b[0m: Agent Starting Run: qlc6bted with config:\n",
      "\u001b[34m\u001b[1mwandb\u001b[0m: \tlearning_rate: 0.024824728680292396\n",
      "\u001b[34m\u001b[1mwandb\u001b[0m: \tmax_depth: 7\n",
      "\u001b[34m\u001b[1mwandb\u001b[0m: \tn_estimators: 938\n",
      "\u001b[34m\u001b[1mwandb\u001b[0m: \tnum_leaves: 34\n",
      "\u001b[34m\u001b[1mwandb\u001b[0m: \treg_alpha: 52\n",
      "\u001b[34m\u001b[1mwandb\u001b[0m: \treg_lambda: 26\n",
      "\u001b[34m\u001b[1mwandb\u001b[0m: \tsubsample: 1\n"
     ]
    },
    {
     "data": {
      "text/html": [
       "Tracking run with wandb version 0.16.0"
      ],
      "text/plain": [
       "<IPython.core.display.HTML object>"
      ]
     },
     "metadata": {},
     "output_type": "display_data"
    },
    {
     "data": {
      "text/html": [
       "Run data is saved locally in <code>C:\\Users\\cemal\\Desktop\\Dersler\\Data Informatics\\DI502\\Github\\wandb\\run-20231203_133834-qlc6bted</code>"
      ],
      "text/plain": [
       "<IPython.core.display.HTML object>"
      ]
     },
     "metadata": {},
     "output_type": "display_data"
    },
    {
     "data": {
      "text/html": [
       "Syncing run <strong><a href='https://wandb.ai/thebiasbusters/ElectricConsumption/runs/qlc6bted' target=\"_blank\">toasty-sweep-24</a></strong> to <a href='https://wandb.ai/thebiasbusters/ElectricConsumption' target=\"_blank\">Weights & Biases</a> (<a href='https://wandb.me/run' target=\"_blank\">docs</a>)<br/>Sweep page: <a href='https://wandb.ai/thebiasbusters/ElectricConsumption/sweeps/imyaimnq' target=\"_blank\">https://wandb.ai/thebiasbusters/ElectricConsumption/sweeps/imyaimnq</a>"
      ],
      "text/plain": [
       "<IPython.core.display.HTML object>"
      ]
     },
     "metadata": {},
     "output_type": "display_data"
    },
    {
     "data": {
      "text/html": [
       " View project at <a href='https://wandb.ai/thebiasbusters/ElectricConsumption' target=\"_blank\">https://wandb.ai/thebiasbusters/ElectricConsumption</a>"
      ],
      "text/plain": [
       "<IPython.core.display.HTML object>"
      ]
     },
     "metadata": {},
     "output_type": "display_data"
    },
    {
     "data": {
      "text/html": [
       " View sweep at <a href='https://wandb.ai/thebiasbusters/ElectricConsumption/sweeps/imyaimnq' target=\"_blank\">https://wandb.ai/thebiasbusters/ElectricConsumption/sweeps/imyaimnq</a>"
      ],
      "text/plain": [
       "<IPython.core.display.HTML object>"
      ]
     },
     "metadata": {},
     "output_type": "display_data"
    },
    {
     "data": {
      "text/html": [
       " View run at <a href='https://wandb.ai/thebiasbusters/ElectricConsumption/runs/qlc6bted' target=\"_blank\">https://wandb.ai/thebiasbusters/ElectricConsumption/runs/qlc6bted</a>"
      ],
      "text/plain": [
       "<IPython.core.display.HTML object>"
      ]
     },
     "metadata": {},
     "output_type": "display_data"
    },
    {
     "data": {
      "text/html": [
       "<style>\n",
       "    table.wandb td:nth-child(1) { padding: 0 10px; text-align: left ; width: auto;} td:nth-child(2) {text-align: left ; width: 100%}\n",
       "    .wandb-row { display: flex; flex-direction: row; flex-wrap: wrap; justify-content: flex-start; width: 100% }\n",
       "    .wandb-col { display: flex; flex-direction: column; flex-basis: 100%; flex: 1; padding: 10px; }\n",
       "    </style>\n",
       "<div class=\"wandb-row\"><div class=\"wandb-col\"><h3>Run history:</h3><br/><table class=\"wandb\"><tr><td>r2</td><td>▁</td></tr></table><br/></div><div class=\"wandb-col\"><h3>Run summary:</h3><br/><table class=\"wandb\"><tr><td>r2</td><td>0.89731</td></tr></table><br/></div></div>"
      ],
      "text/plain": [
       "<IPython.core.display.HTML object>"
      ]
     },
     "metadata": {},
     "output_type": "display_data"
    },
    {
     "data": {
      "text/html": [
       " View run <strong style=\"color:#cdcd00\">toasty-sweep-24</strong> at: <a href='https://wandb.ai/thebiasbusters/ElectricConsumption/runs/qlc6bted' target=\"_blank\">https://wandb.ai/thebiasbusters/ElectricConsumption/runs/qlc6bted</a><br/>Synced 5 W&B file(s), 0 media file(s), 0 artifact file(s) and 0 other file(s)"
      ],
      "text/plain": [
       "<IPython.core.display.HTML object>"
      ]
     },
     "metadata": {},
     "output_type": "display_data"
    },
    {
     "data": {
      "text/html": [
       "Find logs at: <code>.\\wandb\\run-20231203_133834-qlc6bted\\logs</code>"
      ],
      "text/plain": [
       "<IPython.core.display.HTML object>"
      ]
     },
     "metadata": {},
     "output_type": "display_data"
    },
    {
     "name": "stderr",
     "output_type": "stream",
     "text": [
      "\u001b[34m\u001b[1mwandb\u001b[0m: Agent Starting Run: waqeqcfq with config:\n",
      "\u001b[34m\u001b[1mwandb\u001b[0m: \tlearning_rate: 0.12536521427838637\n",
      "\u001b[34m\u001b[1mwandb\u001b[0m: \tmax_depth: 4\n",
      "\u001b[34m\u001b[1mwandb\u001b[0m: \tn_estimators: 296\n",
      "\u001b[34m\u001b[1mwandb\u001b[0m: \tnum_leaves: 39\n",
      "\u001b[34m\u001b[1mwandb\u001b[0m: \treg_alpha: 71\n",
      "\u001b[34m\u001b[1mwandb\u001b[0m: \treg_lambda: 77\n",
      "\u001b[34m\u001b[1mwandb\u001b[0m: \tsubsample: 0.9\n"
     ]
    },
    {
     "data": {
      "text/html": [
       "Tracking run with wandb version 0.16.0"
      ],
      "text/plain": [
       "<IPython.core.display.HTML object>"
      ]
     },
     "metadata": {},
     "output_type": "display_data"
    },
    {
     "data": {
      "text/html": [
       "Run data is saved locally in <code>C:\\Users\\cemal\\Desktop\\Dersler\\Data Informatics\\DI502\\Github\\wandb\\run-20231203_133911-waqeqcfq</code>"
      ],
      "text/plain": [
       "<IPython.core.display.HTML object>"
      ]
     },
     "metadata": {},
     "output_type": "display_data"
    },
    {
     "data": {
      "text/html": [
       "Syncing run <strong><a href='https://wandb.ai/thebiasbusters/ElectricConsumption/runs/waqeqcfq' target=\"_blank\">morning-sweep-25</a></strong> to <a href='https://wandb.ai/thebiasbusters/ElectricConsumption' target=\"_blank\">Weights & Biases</a> (<a href='https://wandb.me/run' target=\"_blank\">docs</a>)<br/>Sweep page: <a href='https://wandb.ai/thebiasbusters/ElectricConsumption/sweeps/imyaimnq' target=\"_blank\">https://wandb.ai/thebiasbusters/ElectricConsumption/sweeps/imyaimnq</a>"
      ],
      "text/plain": [
       "<IPython.core.display.HTML object>"
      ]
     },
     "metadata": {},
     "output_type": "display_data"
    },
    {
     "data": {
      "text/html": [
       " View project at <a href='https://wandb.ai/thebiasbusters/ElectricConsumption' target=\"_blank\">https://wandb.ai/thebiasbusters/ElectricConsumption</a>"
      ],
      "text/plain": [
       "<IPython.core.display.HTML object>"
      ]
     },
     "metadata": {},
     "output_type": "display_data"
    },
    {
     "data": {
      "text/html": [
       " View sweep at <a href='https://wandb.ai/thebiasbusters/ElectricConsumption/sweeps/imyaimnq' target=\"_blank\">https://wandb.ai/thebiasbusters/ElectricConsumption/sweeps/imyaimnq</a>"
      ],
      "text/plain": [
       "<IPython.core.display.HTML object>"
      ]
     },
     "metadata": {},
     "output_type": "display_data"
    },
    {
     "data": {
      "text/html": [
       " View run at <a href='https://wandb.ai/thebiasbusters/ElectricConsumption/runs/waqeqcfq' target=\"_blank\">https://wandb.ai/thebiasbusters/ElectricConsumption/runs/waqeqcfq</a>"
      ],
      "text/plain": [
       "<IPython.core.display.HTML object>"
      ]
     },
     "metadata": {},
     "output_type": "display_data"
    },
    {
     "data": {
      "text/html": [
       "<style>\n",
       "    table.wandb td:nth-child(1) { padding: 0 10px; text-align: left ; width: auto;} td:nth-child(2) {text-align: left ; width: 100%}\n",
       "    .wandb-row { display: flex; flex-direction: row; flex-wrap: wrap; justify-content: flex-start; width: 100% }\n",
       "    .wandb-col { display: flex; flex-direction: column; flex-basis: 100%; flex: 1; padding: 10px; }\n",
       "    </style>\n",
       "<div class=\"wandb-row\"><div class=\"wandb-col\"><h3>Run history:</h3><br/><table class=\"wandb\"><tr><td>r2</td><td>▁</td></tr></table><br/></div><div class=\"wandb-col\"><h3>Run summary:</h3><br/><table class=\"wandb\"><tr><td>r2</td><td>0.84093</td></tr></table><br/></div></div>"
      ],
      "text/plain": [
       "<IPython.core.display.HTML object>"
      ]
     },
     "metadata": {},
     "output_type": "display_data"
    },
    {
     "data": {
      "text/html": [
       " View run <strong style=\"color:#cdcd00\">morning-sweep-25</strong> at: <a href='https://wandb.ai/thebiasbusters/ElectricConsumption/runs/waqeqcfq' target=\"_blank\">https://wandb.ai/thebiasbusters/ElectricConsumption/runs/waqeqcfq</a><br/>Synced 5 W&B file(s), 0 media file(s), 0 artifact file(s) and 0 other file(s)"
      ],
      "text/plain": [
       "<IPython.core.display.HTML object>"
      ]
     },
     "metadata": {},
     "output_type": "display_data"
    },
    {
     "data": {
      "text/html": [
       "Find logs at: <code>.\\wandb\\run-20231203_133911-waqeqcfq\\logs</code>"
      ],
      "text/plain": [
       "<IPython.core.display.HTML object>"
      ]
     },
     "metadata": {},
     "output_type": "display_data"
    },
    {
     "name": "stderr",
     "output_type": "stream",
     "text": [
      "\u001b[34m\u001b[1mwandb\u001b[0m: Agent Starting Run: w4evry6e with config:\n",
      "\u001b[34m\u001b[1mwandb\u001b[0m: \tlearning_rate: 0.07846364249409718\n",
      "\u001b[34m\u001b[1mwandb\u001b[0m: \tmax_depth: 7\n",
      "\u001b[34m\u001b[1mwandb\u001b[0m: \tn_estimators: 487\n",
      "\u001b[34m\u001b[1mwandb\u001b[0m: \tnum_leaves: 46\n",
      "\u001b[34m\u001b[1mwandb\u001b[0m: \treg_alpha: 10\n",
      "\u001b[34m\u001b[1mwandb\u001b[0m: \treg_lambda: 7\n",
      "\u001b[34m\u001b[1mwandb\u001b[0m: \tsubsample: 0.9\n"
     ]
    },
    {
     "data": {
      "text/html": [
       "Tracking run with wandb version 0.16.0"
      ],
      "text/plain": [
       "<IPython.core.display.HTML object>"
      ]
     },
     "metadata": {},
     "output_type": "display_data"
    },
    {
     "data": {
      "text/html": [
       "Run data is saved locally in <code>C:\\Users\\cemal\\Desktop\\Dersler\\Data Informatics\\DI502\\Github\\wandb\\run-20231203_133950-w4evry6e</code>"
      ],
      "text/plain": [
       "<IPython.core.display.HTML object>"
      ]
     },
     "metadata": {},
     "output_type": "display_data"
    },
    {
     "data": {
      "text/html": [
       "Syncing run <strong><a href='https://wandb.ai/thebiasbusters/ElectricConsumption/runs/w4evry6e' target=\"_blank\">charmed-sweep-26</a></strong> to <a href='https://wandb.ai/thebiasbusters/ElectricConsumption' target=\"_blank\">Weights & Biases</a> (<a href='https://wandb.me/run' target=\"_blank\">docs</a>)<br/>Sweep page: <a href='https://wandb.ai/thebiasbusters/ElectricConsumption/sweeps/imyaimnq' target=\"_blank\">https://wandb.ai/thebiasbusters/ElectricConsumption/sweeps/imyaimnq</a>"
      ],
      "text/plain": [
       "<IPython.core.display.HTML object>"
      ]
     },
     "metadata": {},
     "output_type": "display_data"
    },
    {
     "data": {
      "text/html": [
       " View project at <a href='https://wandb.ai/thebiasbusters/ElectricConsumption' target=\"_blank\">https://wandb.ai/thebiasbusters/ElectricConsumption</a>"
      ],
      "text/plain": [
       "<IPython.core.display.HTML object>"
      ]
     },
     "metadata": {},
     "output_type": "display_data"
    },
    {
     "data": {
      "text/html": [
       " View sweep at <a href='https://wandb.ai/thebiasbusters/ElectricConsumption/sweeps/imyaimnq' target=\"_blank\">https://wandb.ai/thebiasbusters/ElectricConsumption/sweeps/imyaimnq</a>"
      ],
      "text/plain": [
       "<IPython.core.display.HTML object>"
      ]
     },
     "metadata": {},
     "output_type": "display_data"
    },
    {
     "data": {
      "text/html": [
       " View run at <a href='https://wandb.ai/thebiasbusters/ElectricConsumption/runs/w4evry6e' target=\"_blank\">https://wandb.ai/thebiasbusters/ElectricConsumption/runs/w4evry6e</a>"
      ],
      "text/plain": [
       "<IPython.core.display.HTML object>"
      ]
     },
     "metadata": {},
     "output_type": "display_data"
    },
    {
     "data": {
      "text/html": [
       "<style>\n",
       "    table.wandb td:nth-child(1) { padding: 0 10px; text-align: left ; width: auto;} td:nth-child(2) {text-align: left ; width: 100%}\n",
       "    .wandb-row { display: flex; flex-direction: row; flex-wrap: wrap; justify-content: flex-start; width: 100% }\n",
       "    .wandb-col { display: flex; flex-direction: column; flex-basis: 100%; flex: 1; padding: 10px; }\n",
       "    </style>\n",
       "<div class=\"wandb-row\"><div class=\"wandb-col\"><h3>Run history:</h3><br/><table class=\"wandb\"><tr><td>r2</td><td>▁</td></tr></table><br/></div><div class=\"wandb-col\"><h3>Run summary:</h3><br/><table class=\"wandb\"><tr><td>r2</td><td>0.88837</td></tr></table><br/></div></div>"
      ],
      "text/plain": [
       "<IPython.core.display.HTML object>"
      ]
     },
     "metadata": {},
     "output_type": "display_data"
    },
    {
     "data": {
      "text/html": [
       " View run <strong style=\"color:#cdcd00\">charmed-sweep-26</strong> at: <a href='https://wandb.ai/thebiasbusters/ElectricConsumption/runs/w4evry6e' target=\"_blank\">https://wandb.ai/thebiasbusters/ElectricConsumption/runs/w4evry6e</a><br/>Synced 5 W&B file(s), 0 media file(s), 0 artifact file(s) and 0 other file(s)"
      ],
      "text/plain": [
       "<IPython.core.display.HTML object>"
      ]
     },
     "metadata": {},
     "output_type": "display_data"
    },
    {
     "data": {
      "text/html": [
       "Find logs at: <code>.\\wandb\\run-20231203_133950-w4evry6e\\logs</code>"
      ],
      "text/plain": [
       "<IPython.core.display.HTML object>"
      ]
     },
     "metadata": {},
     "output_type": "display_data"
    },
    {
     "name": "stderr",
     "output_type": "stream",
     "text": [
      "\u001b[34m\u001b[1mwandb\u001b[0m: Agent Starting Run: nqd1jou6 with config:\n",
      "\u001b[34m\u001b[1mwandb\u001b[0m: \tlearning_rate: 0.05540834643699604\n",
      "\u001b[34m\u001b[1mwandb\u001b[0m: \tmax_depth: 6\n",
      "\u001b[34m\u001b[1mwandb\u001b[0m: \tn_estimators: 622\n",
      "\u001b[34m\u001b[1mwandb\u001b[0m: \tnum_leaves: 22\n",
      "\u001b[34m\u001b[1mwandb\u001b[0m: \treg_alpha: 59\n",
      "\u001b[34m\u001b[1mwandb\u001b[0m: \treg_lambda: 62\n",
      "\u001b[34m\u001b[1mwandb\u001b[0m: \tsubsample: 0.9\n"
     ]
    },
    {
     "data": {
      "text/html": [
       "Tracking run with wandb version 0.16.0"
      ],
      "text/plain": [
       "<IPython.core.display.HTML object>"
      ]
     },
     "metadata": {},
     "output_type": "display_data"
    },
    {
     "data": {
      "text/html": [
       "Run data is saved locally in <code>C:\\Users\\cemal\\Desktop\\Dersler\\Data Informatics\\DI502\\Github\\wandb\\run-20231203_134032-nqd1jou6</code>"
      ],
      "text/plain": [
       "<IPython.core.display.HTML object>"
      ]
     },
     "metadata": {},
     "output_type": "display_data"
    },
    {
     "data": {
      "text/html": [
       "Syncing run <strong><a href='https://wandb.ai/thebiasbusters/ElectricConsumption/runs/nqd1jou6' target=\"_blank\">cosmic-sweep-27</a></strong> to <a href='https://wandb.ai/thebiasbusters/ElectricConsumption' target=\"_blank\">Weights & Biases</a> (<a href='https://wandb.me/run' target=\"_blank\">docs</a>)<br/>Sweep page: <a href='https://wandb.ai/thebiasbusters/ElectricConsumption/sweeps/imyaimnq' target=\"_blank\">https://wandb.ai/thebiasbusters/ElectricConsumption/sweeps/imyaimnq</a>"
      ],
      "text/plain": [
       "<IPython.core.display.HTML object>"
      ]
     },
     "metadata": {},
     "output_type": "display_data"
    },
    {
     "data": {
      "text/html": [
       " View project at <a href='https://wandb.ai/thebiasbusters/ElectricConsumption' target=\"_blank\">https://wandb.ai/thebiasbusters/ElectricConsumption</a>"
      ],
      "text/plain": [
       "<IPython.core.display.HTML object>"
      ]
     },
     "metadata": {},
     "output_type": "display_data"
    },
    {
     "data": {
      "text/html": [
       " View sweep at <a href='https://wandb.ai/thebiasbusters/ElectricConsumption/sweeps/imyaimnq' target=\"_blank\">https://wandb.ai/thebiasbusters/ElectricConsumption/sweeps/imyaimnq</a>"
      ],
      "text/plain": [
       "<IPython.core.display.HTML object>"
      ]
     },
     "metadata": {},
     "output_type": "display_data"
    },
    {
     "data": {
      "text/html": [
       " View run at <a href='https://wandb.ai/thebiasbusters/ElectricConsumption/runs/nqd1jou6' target=\"_blank\">https://wandb.ai/thebiasbusters/ElectricConsumption/runs/nqd1jou6</a>"
      ],
      "text/plain": [
       "<IPython.core.display.HTML object>"
      ]
     },
     "metadata": {},
     "output_type": "display_data"
    },
    {
     "data": {
      "text/html": [
       "<style>\n",
       "    table.wandb td:nth-child(1) { padding: 0 10px; text-align: left ; width: auto;} td:nth-child(2) {text-align: left ; width: 100%}\n",
       "    .wandb-row { display: flex; flex-direction: row; flex-wrap: wrap; justify-content: flex-start; width: 100% }\n",
       "    .wandb-col { display: flex; flex-direction: column; flex-basis: 100%; flex: 1; padding: 10px; }\n",
       "    </style>\n",
       "<div class=\"wandb-row\"><div class=\"wandb-col\"><h3>Run history:</h3><br/><table class=\"wandb\"><tr><td>r2</td><td>▁</td></tr></table><br/></div><div class=\"wandb-col\"><h3>Run summary:</h3><br/><table class=\"wandb\"><tr><td>r2</td><td>0.94939</td></tr></table><br/></div></div>"
      ],
      "text/plain": [
       "<IPython.core.display.HTML object>"
      ]
     },
     "metadata": {},
     "output_type": "display_data"
    },
    {
     "data": {
      "text/html": [
       " View run <strong style=\"color:#cdcd00\">cosmic-sweep-27</strong> at: <a href='https://wandb.ai/thebiasbusters/ElectricConsumption/runs/nqd1jou6' target=\"_blank\">https://wandb.ai/thebiasbusters/ElectricConsumption/runs/nqd1jou6</a><br/>Synced 5 W&B file(s), 0 media file(s), 0 artifact file(s) and 0 other file(s)"
      ],
      "text/plain": [
       "<IPython.core.display.HTML object>"
      ]
     },
     "metadata": {},
     "output_type": "display_data"
    },
    {
     "data": {
      "text/html": [
       "Find logs at: <code>.\\wandb\\run-20231203_134032-nqd1jou6\\logs</code>"
      ],
      "text/plain": [
       "<IPython.core.display.HTML object>"
      ]
     },
     "metadata": {},
     "output_type": "display_data"
    },
    {
     "name": "stderr",
     "output_type": "stream",
     "text": [
      "\u001b[34m\u001b[1mwandb\u001b[0m: Agent Starting Run: hiiz7jx3 with config:\n",
      "\u001b[34m\u001b[1mwandb\u001b[0m: \tlearning_rate: 0.091106260501861\n",
      "\u001b[34m\u001b[1mwandb\u001b[0m: \tmax_depth: 7\n",
      "\u001b[34m\u001b[1mwandb\u001b[0m: \tn_estimators: 658\n",
      "\u001b[34m\u001b[1mwandb\u001b[0m: \tnum_leaves: 26\n",
      "\u001b[34m\u001b[1mwandb\u001b[0m: \treg_alpha: 53\n",
      "\u001b[34m\u001b[1mwandb\u001b[0m: \treg_lambda: 61\n",
      "\u001b[34m\u001b[1mwandb\u001b[0m: \tsubsample: 0.9\n"
     ]
    },
    {
     "data": {
      "text/html": [
       "Tracking run with wandb version 0.16.0"
      ],
      "text/plain": [
       "<IPython.core.display.HTML object>"
      ]
     },
     "metadata": {},
     "output_type": "display_data"
    },
    {
     "data": {
      "text/html": [
       "Run data is saved locally in <code>C:\\Users\\cemal\\Desktop\\Dersler\\Data Informatics\\DI502\\Github\\wandb\\run-20231203_134104-hiiz7jx3</code>"
      ],
      "text/plain": [
       "<IPython.core.display.HTML object>"
      ]
     },
     "metadata": {},
     "output_type": "display_data"
    },
    {
     "data": {
      "text/html": [
       "Syncing run <strong><a href='https://wandb.ai/thebiasbusters/ElectricConsumption/runs/hiiz7jx3' target=\"_blank\">graceful-sweep-28</a></strong> to <a href='https://wandb.ai/thebiasbusters/ElectricConsumption' target=\"_blank\">Weights & Biases</a> (<a href='https://wandb.me/run' target=\"_blank\">docs</a>)<br/>Sweep page: <a href='https://wandb.ai/thebiasbusters/ElectricConsumption/sweeps/imyaimnq' target=\"_blank\">https://wandb.ai/thebiasbusters/ElectricConsumption/sweeps/imyaimnq</a>"
      ],
      "text/plain": [
       "<IPython.core.display.HTML object>"
      ]
     },
     "metadata": {},
     "output_type": "display_data"
    },
    {
     "data": {
      "text/html": [
       " View project at <a href='https://wandb.ai/thebiasbusters/ElectricConsumption' target=\"_blank\">https://wandb.ai/thebiasbusters/ElectricConsumption</a>"
      ],
      "text/plain": [
       "<IPython.core.display.HTML object>"
      ]
     },
     "metadata": {},
     "output_type": "display_data"
    },
    {
     "data": {
      "text/html": [
       " View sweep at <a href='https://wandb.ai/thebiasbusters/ElectricConsumption/sweeps/imyaimnq' target=\"_blank\">https://wandb.ai/thebiasbusters/ElectricConsumption/sweeps/imyaimnq</a>"
      ],
      "text/plain": [
       "<IPython.core.display.HTML object>"
      ]
     },
     "metadata": {},
     "output_type": "display_data"
    },
    {
     "data": {
      "text/html": [
       " View run at <a href='https://wandb.ai/thebiasbusters/ElectricConsumption/runs/hiiz7jx3' target=\"_blank\">https://wandb.ai/thebiasbusters/ElectricConsumption/runs/hiiz7jx3</a>"
      ],
      "text/plain": [
       "<IPython.core.display.HTML object>"
      ]
     },
     "metadata": {},
     "output_type": "display_data"
    },
    {
     "data": {
      "text/html": [
       "<style>\n",
       "    table.wandb td:nth-child(1) { padding: 0 10px; text-align: left ; width: auto;} td:nth-child(2) {text-align: left ; width: 100%}\n",
       "    .wandb-row { display: flex; flex-direction: row; flex-wrap: wrap; justify-content: flex-start; width: 100% }\n",
       "    .wandb-col { display: flex; flex-direction: column; flex-basis: 100%; flex: 1; padding: 10px; }\n",
       "    </style>\n",
       "<div class=\"wandb-row\"><div class=\"wandb-col\"><h3>Run history:</h3><br/><table class=\"wandb\"><tr><td>r2</td><td>▁</td></tr></table><br/></div><div class=\"wandb-col\"><h3>Run summary:</h3><br/><table class=\"wandb\"><tr><td>r2</td><td>0.93751</td></tr></table><br/></div></div>"
      ],
      "text/plain": [
       "<IPython.core.display.HTML object>"
      ]
     },
     "metadata": {},
     "output_type": "display_data"
    },
    {
     "data": {
      "text/html": [
       " View run <strong style=\"color:#cdcd00\">graceful-sweep-28</strong> at: <a href='https://wandb.ai/thebiasbusters/ElectricConsumption/runs/hiiz7jx3' target=\"_blank\">https://wandb.ai/thebiasbusters/ElectricConsumption/runs/hiiz7jx3</a><br/>Synced 5 W&B file(s), 0 media file(s), 0 artifact file(s) and 0 other file(s)"
      ],
      "text/plain": [
       "<IPython.core.display.HTML object>"
      ]
     },
     "metadata": {},
     "output_type": "display_data"
    },
    {
     "data": {
      "text/html": [
       "Find logs at: <code>.\\wandb\\run-20231203_134104-hiiz7jx3\\logs</code>"
      ],
      "text/plain": [
       "<IPython.core.display.HTML object>"
      ]
     },
     "metadata": {},
     "output_type": "display_data"
    },
    {
     "name": "stderr",
     "output_type": "stream",
     "text": [
      "\u001b[34m\u001b[1mwandb\u001b[0m: Agent Starting Run: z7jfzp5c with config:\n",
      "\u001b[34m\u001b[1mwandb\u001b[0m: \tlearning_rate: 0.06098838572283356\n",
      "\u001b[34m\u001b[1mwandb\u001b[0m: \tmax_depth: 7\n",
      "\u001b[34m\u001b[1mwandb\u001b[0m: \tn_estimators: 656\n",
      "\u001b[34m\u001b[1mwandb\u001b[0m: \tnum_leaves: 25\n",
      "\u001b[34m\u001b[1mwandb\u001b[0m: \treg_alpha: 77\n",
      "\u001b[34m\u001b[1mwandb\u001b[0m: \treg_lambda: 92\n",
      "\u001b[34m\u001b[1mwandb\u001b[0m: \tsubsample: 0.9\n"
     ]
    },
    {
     "data": {
      "text/html": [
       "Tracking run with wandb version 0.16.0"
      ],
      "text/plain": [
       "<IPython.core.display.HTML object>"
      ]
     },
     "metadata": {},
     "output_type": "display_data"
    },
    {
     "data": {
      "text/html": [
       "Run data is saved locally in <code>C:\\Users\\cemal\\Desktop\\Dersler\\Data Informatics\\DI502\\Github\\wandb\\run-20231203_134136-z7jfzp5c</code>"
      ],
      "text/plain": [
       "<IPython.core.display.HTML object>"
      ]
     },
     "metadata": {},
     "output_type": "display_data"
    },
    {
     "data": {
      "text/html": [
       "Syncing run <strong><a href='https://wandb.ai/thebiasbusters/ElectricConsumption/runs/z7jfzp5c' target=\"_blank\">revived-sweep-29</a></strong> to <a href='https://wandb.ai/thebiasbusters/ElectricConsumption' target=\"_blank\">Weights & Biases</a> (<a href='https://wandb.me/run' target=\"_blank\">docs</a>)<br/>Sweep page: <a href='https://wandb.ai/thebiasbusters/ElectricConsumption/sweeps/imyaimnq' target=\"_blank\">https://wandb.ai/thebiasbusters/ElectricConsumption/sweeps/imyaimnq</a>"
      ],
      "text/plain": [
       "<IPython.core.display.HTML object>"
      ]
     },
     "metadata": {},
     "output_type": "display_data"
    },
    {
     "data": {
      "text/html": [
       " View project at <a href='https://wandb.ai/thebiasbusters/ElectricConsumption' target=\"_blank\">https://wandb.ai/thebiasbusters/ElectricConsumption</a>"
      ],
      "text/plain": [
       "<IPython.core.display.HTML object>"
      ]
     },
     "metadata": {},
     "output_type": "display_data"
    },
    {
     "data": {
      "text/html": [
       " View sweep at <a href='https://wandb.ai/thebiasbusters/ElectricConsumption/sweeps/imyaimnq' target=\"_blank\">https://wandb.ai/thebiasbusters/ElectricConsumption/sweeps/imyaimnq</a>"
      ],
      "text/plain": [
       "<IPython.core.display.HTML object>"
      ]
     },
     "metadata": {},
     "output_type": "display_data"
    },
    {
     "data": {
      "text/html": [
       " View run at <a href='https://wandb.ai/thebiasbusters/ElectricConsumption/runs/z7jfzp5c' target=\"_blank\">https://wandb.ai/thebiasbusters/ElectricConsumption/runs/z7jfzp5c</a>"
      ],
      "text/plain": [
       "<IPython.core.display.HTML object>"
      ]
     },
     "metadata": {},
     "output_type": "display_data"
    },
    {
     "data": {
      "text/html": [
       "<style>\n",
       "    table.wandb td:nth-child(1) { padding: 0 10px; text-align: left ; width: auto;} td:nth-child(2) {text-align: left ; width: 100%}\n",
       "    .wandb-row { display: flex; flex-direction: row; flex-wrap: wrap; justify-content: flex-start; width: 100% }\n",
       "    .wandb-col { display: flex; flex-direction: column; flex-basis: 100%; flex: 1; padding: 10px; }\n",
       "    </style>\n",
       "<div class=\"wandb-row\"><div class=\"wandb-col\"><h3>Run history:</h3><br/><table class=\"wandb\"><tr><td>r2</td><td>▁</td></tr></table><br/></div><div class=\"wandb-col\"><h3>Run summary:</h3><br/><table class=\"wandb\"><tr><td>r2</td><td>0.91655</td></tr></table><br/></div></div>"
      ],
      "text/plain": [
       "<IPython.core.display.HTML object>"
      ]
     },
     "metadata": {},
     "output_type": "display_data"
    },
    {
     "data": {
      "text/html": [
       " View run <strong style=\"color:#cdcd00\">revived-sweep-29</strong> at: <a href='https://wandb.ai/thebiasbusters/ElectricConsumption/runs/z7jfzp5c' target=\"_blank\">https://wandb.ai/thebiasbusters/ElectricConsumption/runs/z7jfzp5c</a><br/>Synced 5 W&B file(s), 0 media file(s), 0 artifact file(s) and 0 other file(s)"
      ],
      "text/plain": [
       "<IPython.core.display.HTML object>"
      ]
     },
     "metadata": {},
     "output_type": "display_data"
    },
    {
     "data": {
      "text/html": [
       "Find logs at: <code>.\\wandb\\run-20231203_134136-z7jfzp5c\\logs</code>"
      ],
      "text/plain": [
       "<IPython.core.display.HTML object>"
      ]
     },
     "metadata": {},
     "output_type": "display_data"
    },
    {
     "name": "stderr",
     "output_type": "stream",
     "text": [
      "\u001b[34m\u001b[1mwandb\u001b[0m: Agent Starting Run: 5dz7emps with config:\n",
      "\u001b[34m\u001b[1mwandb\u001b[0m: \tlearning_rate: 0.1389413524058735\n",
      "\u001b[34m\u001b[1mwandb\u001b[0m: \tmax_depth: 4\n",
      "\u001b[34m\u001b[1mwandb\u001b[0m: \tn_estimators: 121\n",
      "\u001b[34m\u001b[1mwandb\u001b[0m: \tnum_leaves: 23\n",
      "\u001b[34m\u001b[1mwandb\u001b[0m: \treg_alpha: 75\n",
      "\u001b[34m\u001b[1mwandb\u001b[0m: \treg_lambda: 62\n",
      "\u001b[34m\u001b[1mwandb\u001b[0m: \tsubsample: 1\n"
     ]
    },
    {
     "data": {
      "text/html": [
       "Tracking run with wandb version 0.16.0"
      ],
      "text/plain": [
       "<IPython.core.display.HTML object>"
      ]
     },
     "metadata": {},
     "output_type": "display_data"
    },
    {
     "data": {
      "text/html": [
       "Run data is saved locally in <code>C:\\Users\\cemal\\Desktop\\Dersler\\Data Informatics\\DI502\\Github\\wandb\\run-20231203_134209-5dz7emps</code>"
      ],
      "text/plain": [
       "<IPython.core.display.HTML object>"
      ]
     },
     "metadata": {},
     "output_type": "display_data"
    },
    {
     "data": {
      "text/html": [
       "Syncing run <strong><a href='https://wandb.ai/thebiasbusters/ElectricConsumption/runs/5dz7emps' target=\"_blank\">kind-sweep-30</a></strong> to <a href='https://wandb.ai/thebiasbusters/ElectricConsumption' target=\"_blank\">Weights & Biases</a> (<a href='https://wandb.me/run' target=\"_blank\">docs</a>)<br/>Sweep page: <a href='https://wandb.ai/thebiasbusters/ElectricConsumption/sweeps/imyaimnq' target=\"_blank\">https://wandb.ai/thebiasbusters/ElectricConsumption/sweeps/imyaimnq</a>"
      ],
      "text/plain": [
       "<IPython.core.display.HTML object>"
      ]
     },
     "metadata": {},
     "output_type": "display_data"
    },
    {
     "data": {
      "text/html": [
       " View project at <a href='https://wandb.ai/thebiasbusters/ElectricConsumption' target=\"_blank\">https://wandb.ai/thebiasbusters/ElectricConsumption</a>"
      ],
      "text/plain": [
       "<IPython.core.display.HTML object>"
      ]
     },
     "metadata": {},
     "output_type": "display_data"
    },
    {
     "data": {
      "text/html": [
       " View sweep at <a href='https://wandb.ai/thebiasbusters/ElectricConsumption/sweeps/imyaimnq' target=\"_blank\">https://wandb.ai/thebiasbusters/ElectricConsumption/sweeps/imyaimnq</a>"
      ],
      "text/plain": [
       "<IPython.core.display.HTML object>"
      ]
     },
     "metadata": {},
     "output_type": "display_data"
    },
    {
     "data": {
      "text/html": [
       " View run at <a href='https://wandb.ai/thebiasbusters/ElectricConsumption/runs/5dz7emps' target=\"_blank\">https://wandb.ai/thebiasbusters/ElectricConsumption/runs/5dz7emps</a>"
      ],
      "text/plain": [
       "<IPython.core.display.HTML object>"
      ]
     },
     "metadata": {},
     "output_type": "display_data"
    },
    {
     "data": {
      "text/html": [
       "<style>\n",
       "    table.wandb td:nth-child(1) { padding: 0 10px; text-align: left ; width: auto;} td:nth-child(2) {text-align: left ; width: 100%}\n",
       "    .wandb-row { display: flex; flex-direction: row; flex-wrap: wrap; justify-content: flex-start; width: 100% }\n",
       "    .wandb-col { display: flex; flex-direction: column; flex-basis: 100%; flex: 1; padding: 10px; }\n",
       "    </style>\n",
       "<div class=\"wandb-row\"><div class=\"wandb-col\"><h3>Run history:</h3><br/><table class=\"wandb\"><tr><td>r2</td><td>▁</td></tr></table><br/></div><div class=\"wandb-col\"><h3>Run summary:</h3><br/><table class=\"wandb\"><tr><td>r2</td><td>0.8963</td></tr></table><br/></div></div>"
      ],
      "text/plain": [
       "<IPython.core.display.HTML object>"
      ]
     },
     "metadata": {},
     "output_type": "display_data"
    },
    {
     "data": {
      "text/html": [
       " View run <strong style=\"color:#cdcd00\">kind-sweep-30</strong> at: <a href='https://wandb.ai/thebiasbusters/ElectricConsumption/runs/5dz7emps' target=\"_blank\">https://wandb.ai/thebiasbusters/ElectricConsumption/runs/5dz7emps</a><br/>Synced 5 W&B file(s), 0 media file(s), 0 artifact file(s) and 0 other file(s)"
      ],
      "text/plain": [
       "<IPython.core.display.HTML object>"
      ]
     },
     "metadata": {},
     "output_type": "display_data"
    },
    {
     "data": {
      "text/html": [
       "Find logs at: <code>.\\wandb\\run-20231203_134209-5dz7emps\\logs</code>"
      ],
      "text/plain": [
       "<IPython.core.display.HTML object>"
      ]
     },
     "metadata": {},
     "output_type": "display_data"
    },
    {
     "name": "stderr",
     "output_type": "stream",
     "text": [
      "\u001b[34m\u001b[1mwandb\u001b[0m: Agent Starting Run: aia6n6iu with config:\n",
      "\u001b[34m\u001b[1mwandb\u001b[0m: \tlearning_rate: 0.17607320676790433\n",
      "\u001b[34m\u001b[1mwandb\u001b[0m: \tmax_depth: 7\n",
      "\u001b[34m\u001b[1mwandb\u001b[0m: \tn_estimators: 920\n",
      "\u001b[34m\u001b[1mwandb\u001b[0m: \tnum_leaves: 44\n",
      "\u001b[34m\u001b[1mwandb\u001b[0m: \treg_alpha: 100\n",
      "\u001b[34m\u001b[1mwandb\u001b[0m: \treg_lambda: 86\n",
      "\u001b[34m\u001b[1mwandb\u001b[0m: \tsubsample: 0.9\n"
     ]
    },
    {
     "data": {
      "text/html": [
       "Tracking run with wandb version 0.16.0"
      ],
      "text/plain": [
       "<IPython.core.display.HTML object>"
      ]
     },
     "metadata": {},
     "output_type": "display_data"
    },
    {
     "data": {
      "text/html": [
       "Run data is saved locally in <code>C:\\Users\\cemal\\Desktop\\Dersler\\Data Informatics\\DI502\\Github\\wandb\\run-20231203_134241-aia6n6iu</code>"
      ],
      "text/plain": [
       "<IPython.core.display.HTML object>"
      ]
     },
     "metadata": {},
     "output_type": "display_data"
    },
    {
     "data": {
      "text/html": [
       "Syncing run <strong><a href='https://wandb.ai/thebiasbusters/ElectricConsumption/runs/aia6n6iu' target=\"_blank\">stellar-sweep-31</a></strong> to <a href='https://wandb.ai/thebiasbusters/ElectricConsumption' target=\"_blank\">Weights & Biases</a> (<a href='https://wandb.me/run' target=\"_blank\">docs</a>)<br/>Sweep page: <a href='https://wandb.ai/thebiasbusters/ElectricConsumption/sweeps/imyaimnq' target=\"_blank\">https://wandb.ai/thebiasbusters/ElectricConsumption/sweeps/imyaimnq</a>"
      ],
      "text/plain": [
       "<IPython.core.display.HTML object>"
      ]
     },
     "metadata": {},
     "output_type": "display_data"
    },
    {
     "data": {
      "text/html": [
       " View project at <a href='https://wandb.ai/thebiasbusters/ElectricConsumption' target=\"_blank\">https://wandb.ai/thebiasbusters/ElectricConsumption</a>"
      ],
      "text/plain": [
       "<IPython.core.display.HTML object>"
      ]
     },
     "metadata": {},
     "output_type": "display_data"
    },
    {
     "data": {
      "text/html": [
       " View sweep at <a href='https://wandb.ai/thebiasbusters/ElectricConsumption/sweeps/imyaimnq' target=\"_blank\">https://wandb.ai/thebiasbusters/ElectricConsumption/sweeps/imyaimnq</a>"
      ],
      "text/plain": [
       "<IPython.core.display.HTML object>"
      ]
     },
     "metadata": {},
     "output_type": "display_data"
    },
    {
     "data": {
      "text/html": [
       " View run at <a href='https://wandb.ai/thebiasbusters/ElectricConsumption/runs/aia6n6iu' target=\"_blank\">https://wandb.ai/thebiasbusters/ElectricConsumption/runs/aia6n6iu</a>"
      ],
      "text/plain": [
       "<IPython.core.display.HTML object>"
      ]
     },
     "metadata": {},
     "output_type": "display_data"
    },
    {
     "data": {
      "text/html": [
       "<style>\n",
       "    table.wandb td:nth-child(1) { padding: 0 10px; text-align: left ; width: auto;} td:nth-child(2) {text-align: left ; width: 100%}\n",
       "    .wandb-row { display: flex; flex-direction: row; flex-wrap: wrap; justify-content: flex-start; width: 100% }\n",
       "    .wandb-col { display: flex; flex-direction: column; flex-basis: 100%; flex: 1; padding: 10px; }\n",
       "    </style>\n",
       "<div class=\"wandb-row\"><div class=\"wandb-col\"><h3>Run history:</h3><br/><table class=\"wandb\"><tr><td>r2</td><td>▁</td></tr></table><br/></div><div class=\"wandb-col\"><h3>Run summary:</h3><br/><table class=\"wandb\"><tr><td>r2</td><td>0.92672</td></tr></table><br/></div></div>"
      ],
      "text/plain": [
       "<IPython.core.display.HTML object>"
      ]
     },
     "metadata": {},
     "output_type": "display_data"
    },
    {
     "data": {
      "text/html": [
       " View run <strong style=\"color:#cdcd00\">stellar-sweep-31</strong> at: <a href='https://wandb.ai/thebiasbusters/ElectricConsumption/runs/aia6n6iu' target=\"_blank\">https://wandb.ai/thebiasbusters/ElectricConsumption/runs/aia6n6iu</a><br/>Synced 5 W&B file(s), 0 media file(s), 0 artifact file(s) and 0 other file(s)"
      ],
      "text/plain": [
       "<IPython.core.display.HTML object>"
      ]
     },
     "metadata": {},
     "output_type": "display_data"
    },
    {
     "data": {
      "text/html": [
       "Find logs at: <code>.\\wandb\\run-20231203_134241-aia6n6iu\\logs</code>"
      ],
      "text/plain": [
       "<IPython.core.display.HTML object>"
      ]
     },
     "metadata": {},
     "output_type": "display_data"
    },
    {
     "name": "stderr",
     "output_type": "stream",
     "text": [
      "\u001b[34m\u001b[1mwandb\u001b[0m: Agent Starting Run: 0rx7pths with config:\n",
      "\u001b[34m\u001b[1mwandb\u001b[0m: \tlearning_rate: 0.05975797090916945\n",
      "\u001b[34m\u001b[1mwandb\u001b[0m: \tmax_depth: 7\n",
      "\u001b[34m\u001b[1mwandb\u001b[0m: \tn_estimators: 487\n",
      "\u001b[34m\u001b[1mwandb\u001b[0m: \tnum_leaves: 30\n",
      "\u001b[34m\u001b[1mwandb\u001b[0m: \treg_alpha: 52\n",
      "\u001b[34m\u001b[1mwandb\u001b[0m: \treg_lambda: 70\n",
      "\u001b[34m\u001b[1mwandb\u001b[0m: \tsubsample: 1\n"
     ]
    },
    {
     "data": {
      "text/html": [
       "Tracking run with wandb version 0.16.0"
      ],
      "text/plain": [
       "<IPython.core.display.HTML object>"
      ]
     },
     "metadata": {},
     "output_type": "display_data"
    },
    {
     "data": {
      "text/html": [
       "Run data is saved locally in <code>C:\\Users\\cemal\\Desktop\\Dersler\\Data Informatics\\DI502\\Github\\wandb\\run-20231203_134315-0rx7pths</code>"
      ],
      "text/plain": [
       "<IPython.core.display.HTML object>"
      ]
     },
     "metadata": {},
     "output_type": "display_data"
    },
    {
     "data": {
      "text/html": [
       "Syncing run <strong><a href='https://wandb.ai/thebiasbusters/ElectricConsumption/runs/0rx7pths' target=\"_blank\">lemon-sweep-32</a></strong> to <a href='https://wandb.ai/thebiasbusters/ElectricConsumption' target=\"_blank\">Weights & Biases</a> (<a href='https://wandb.me/run' target=\"_blank\">docs</a>)<br/>Sweep page: <a href='https://wandb.ai/thebiasbusters/ElectricConsumption/sweeps/imyaimnq' target=\"_blank\">https://wandb.ai/thebiasbusters/ElectricConsumption/sweeps/imyaimnq</a>"
      ],
      "text/plain": [
       "<IPython.core.display.HTML object>"
      ]
     },
     "metadata": {},
     "output_type": "display_data"
    },
    {
     "data": {
      "text/html": [
       " View project at <a href='https://wandb.ai/thebiasbusters/ElectricConsumption' target=\"_blank\">https://wandb.ai/thebiasbusters/ElectricConsumption</a>"
      ],
      "text/plain": [
       "<IPython.core.display.HTML object>"
      ]
     },
     "metadata": {},
     "output_type": "display_data"
    },
    {
     "data": {
      "text/html": [
       " View sweep at <a href='https://wandb.ai/thebiasbusters/ElectricConsumption/sweeps/imyaimnq' target=\"_blank\">https://wandb.ai/thebiasbusters/ElectricConsumption/sweeps/imyaimnq</a>"
      ],
      "text/plain": [
       "<IPython.core.display.HTML object>"
      ]
     },
     "metadata": {},
     "output_type": "display_data"
    },
    {
     "data": {
      "text/html": [
       " View run at <a href='https://wandb.ai/thebiasbusters/ElectricConsumption/runs/0rx7pths' target=\"_blank\">https://wandb.ai/thebiasbusters/ElectricConsumption/runs/0rx7pths</a>"
      ],
      "text/plain": [
       "<IPython.core.display.HTML object>"
      ]
     },
     "metadata": {},
     "output_type": "display_data"
    },
    {
     "data": {
      "text/html": [
       "<style>\n",
       "    table.wandb td:nth-child(1) { padding: 0 10px; text-align: left ; width: auto;} td:nth-child(2) {text-align: left ; width: 100%}\n",
       "    .wandb-row { display: flex; flex-direction: row; flex-wrap: wrap; justify-content: flex-start; width: 100% }\n",
       "    .wandb-col { display: flex; flex-direction: column; flex-basis: 100%; flex: 1; padding: 10px; }\n",
       "    </style>\n",
       "<div class=\"wandb-row\"><div class=\"wandb-col\"><h3>Run history:</h3><br/><table class=\"wandb\"><tr><td>r2</td><td>▁</td></tr></table><br/></div><div class=\"wandb-col\"><h3>Run summary:</h3><br/><table class=\"wandb\"><tr><td>r2</td><td>0.90497</td></tr></table><br/></div></div>"
      ],
      "text/plain": [
       "<IPython.core.display.HTML object>"
      ]
     },
     "metadata": {},
     "output_type": "display_data"
    },
    {
     "data": {
      "text/html": [
       " View run <strong style=\"color:#cdcd00\">lemon-sweep-32</strong> at: <a href='https://wandb.ai/thebiasbusters/ElectricConsumption/runs/0rx7pths' target=\"_blank\">https://wandb.ai/thebiasbusters/ElectricConsumption/runs/0rx7pths</a><br/>Synced 5 W&B file(s), 0 media file(s), 0 artifact file(s) and 0 other file(s)"
      ],
      "text/plain": [
       "<IPython.core.display.HTML object>"
      ]
     },
     "metadata": {},
     "output_type": "display_data"
    },
    {
     "data": {
      "text/html": [
       "Find logs at: <code>.\\wandb\\run-20231203_134315-0rx7pths\\logs</code>"
      ],
      "text/plain": [
       "<IPython.core.display.HTML object>"
      ]
     },
     "metadata": {},
     "output_type": "display_data"
    },
    {
     "name": "stderr",
     "output_type": "stream",
     "text": [
      "\u001b[34m\u001b[1mwandb\u001b[0m: Ctrl + C detected. Stopping sweep.\n"
     ]
    }
   ],
   "source": [
    "# Sweep agent'larını başlatın ve sweep ID'si ile ilişkilendirin\n",
    "wandb.agent(\"imyaimnq\", train, count=100)"
   ]
  },
  {
   "cell_type": "code",
   "execution_count": null,
   "id": "e8f5e315",
   "metadata": {},
   "outputs": [],
   "source": []
  }
 ],
 "metadata": {
  "kernelspec": {
   "display_name": "Python 3 (ipykernel)",
   "language": "python",
   "name": "python3"
  },
  "language_info": {
   "codemirror_mode": {
    "name": "ipython",
    "version": 3
   },
   "file_extension": ".py",
   "mimetype": "text/x-python",
   "name": "python",
   "nbconvert_exporter": "python",
   "pygments_lexer": "ipython3",
   "version": "3.9.5"
  },
  "toc": {
   "base_numbering": 1,
   "nav_menu": {},
   "number_sections": true,
   "sideBar": true,
   "skip_h1_title": false,
   "title_cell": "Table of Contents",
   "title_sidebar": "Contents",
   "toc_cell": false,
   "toc_position": {},
   "toc_section_display": true,
   "toc_window_display": false
  }
 },
 "nbformat": 4,
 "nbformat_minor": 5
}
